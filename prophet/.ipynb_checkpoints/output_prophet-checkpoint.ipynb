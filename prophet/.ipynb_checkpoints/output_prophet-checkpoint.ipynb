{
 "cells": [
  {
   "cell_type": "code",
   "execution_count": 1,
   "id": "58ebd106-31dc-4454-9c58-d95f86c0cffa",
   "metadata": {
    "tags": []
   },
   "outputs": [],
   "source": [
    "import numpy as np\n",
    "import pandas as pd\n",
    "import matplotlib.pyplot as plt\n",
    "%matplotlib inline\n",
    "plt.style.use('seaborn-poster')"
   ]
  },
  {
   "cell_type": "code",
   "execution_count": 2,
   "id": "66c7cc68-2150-41c2-bd62-4d832f49f655",
   "metadata": {},
   "outputs": [],
   "source": [
    "#Sentinel 2, Band 08 Results"
   ]
  },
  {
   "cell_type": "code",
   "execution_count": 3,
   "id": "d696eb70-180a-45df-a33b-5a5031bc3cd3",
   "metadata": {},
   "outputs": [],
   "source": [
    "arr = np.load('./b084532.npy', allow_pickle=True)\n",
    "arr = pd.DataFrame(arr)"
   ]
  },
  {
   "cell_type": "code",
   "execution_count": 4,
   "id": "a6bcbac4-7fe7-4a66-bedf-2055cf7c79b3",
   "metadata": {},
   "outputs": [
    {
     "data": {
      "text/plain": [
       "0    datetime64[ns]\n",
       "1            object\n",
       "dtype: object"
      ]
     },
     "execution_count": 4,
     "metadata": {},
     "output_type": "execute_result"
    }
   ],
   "source": [
    "arr.dtypes"
   ]
  },
  {
   "cell_type": "code",
   "execution_count": 5,
   "id": "11dd64f9-a105-4334-9b7e-0377d477d1ed",
   "metadata": {
    "tags": []
   },
   "outputs": [],
   "source": [
    "ip = np.load('../namelist/b08.npy')\n",
    "ip4532 = ip[:, 45, 32]\n",
    "ip2516 = ip[:, 25, 16]\n",
    "df = pd.read_pickle('../namelist/s2_08.pkl')\n",
    "df['start_datetime'] = pd.to_datetime(df['start_datetime'])\n",
    "df4532 = {'ds':df['start_datetime'],'y':ip4532}\n",
    "df4532 = pd.DataFrame(df4532)\n",
    "df4532 = df4532[df4532['y']!=0.0]\n",
    "df2516 = {'ds':df['start_datetime'],'y':ip2516}\n",
    "df2516 = pd.DataFrame(df2516)\n",
    "df2516 = df2516[df2516['y']!=0.0]"
   ]
  },
  {
   "cell_type": "code",
   "execution_count": 6,
   "id": "7dde9472-adfb-4d7d-b90e-635a7952ca9a",
   "metadata": {},
   "outputs": [
    {
     "data": {
      "text/plain": [
       "ds    datetime64[ns]\n",
       "y             uint16\n",
       "dtype: object"
      ]
     },
     "execution_count": 6,
     "metadata": {},
     "output_type": "execute_result"
    }
   ],
   "source": [
    "df = df4532[df4532['ds']<pd.to_datetime('2020-04-01')]\n",
    "target = []\n",
    "for date in arr[0]:\n",
    "    temp = df[df['ds']>=date]\n",
    "    target.append(temp.iloc[0])\n",
    "target = pd.DataFrame(target)\n",
    "df.dtypes"
   ]
  },
  {
   "cell_type": "code",
   "execution_count": 7,
   "id": "f249e3f7-b52a-4163-8f0b-95e16bdecace",
   "metadata": {},
   "outputs": [
    {
     "data": {
      "text/html": [
       "<div>\n",
       "<style scoped>\n",
       "    .dataframe tbody tr th:only-of-type {\n",
       "        vertical-align: middle;\n",
       "    }\n",
       "\n",
       "    .dataframe tbody tr th {\n",
       "        vertical-align: top;\n",
       "    }\n",
       "\n",
       "    .dataframe thead th {\n",
       "        text-align: right;\n",
       "    }\n",
       "</style>\n",
       "<table border=\"1\" class=\"dataframe\">\n",
       "  <thead>\n",
       "    <tr style=\"text-align: right;\">\n",
       "      <th></th>\n",
       "      <th>ds</th>\n",
       "      <th>y</th>\n",
       "    </tr>\n",
       "  </thead>\n",
       "  <tbody>\n",
       "    <tr>\n",
       "      <th>3969</th>\n",
       "      <td>2019-03-28</td>\n",
       "      <td>4532</td>\n",
       "    </tr>\n",
       "    <tr>\n",
       "      <th>3978</th>\n",
       "      <td>2019-04-12</td>\n",
       "      <td>1756</td>\n",
       "    </tr>\n",
       "    <tr>\n",
       "      <th>3987</th>\n",
       "      <td>2019-04-27</td>\n",
       "      <td>5208</td>\n",
       "    </tr>\n",
       "    <tr>\n",
       "      <th>3996</th>\n",
       "      <td>2019-05-12</td>\n",
       "      <td>4462</td>\n",
       "    </tr>\n",
       "    <tr>\n",
       "      <th>4006</th>\n",
       "      <td>2019-05-30</td>\n",
       "      <td>4568</td>\n",
       "    </tr>\n",
       "  </tbody>\n",
       "</table>\n",
       "</div>"
      ],
      "text/plain": [
       "             ds     y\n",
       "3969 2019-03-28  4532\n",
       "3978 2019-04-12  1756\n",
       "3987 2019-04-27  5208\n",
       "3996 2019-05-12  4462\n",
       "4006 2019-05-30  4568"
      ]
     },
     "execution_count": 7,
     "metadata": {},
     "output_type": "execute_result"
    }
   ],
   "source": [
    "target.head()"
   ]
  },
  {
   "cell_type": "code",
   "execution_count": 8,
   "id": "5ed83912-d44f-4556-abde-a2bdf1fda398",
   "metadata": {},
   "outputs": [
    {
     "ename": "SyntaxError",
     "evalue": "unmatched ')' (759477377.py, line 20)",
     "output_type": "error",
     "traceback": [
      "\u001b[0;36m  Input \u001b[0;32mIn [8]\u001b[0;36m\u001b[0m\n\u001b[0;31m    err = np.array(target['y'])-np.array(monkey['y']))\u001b[0m\n\u001b[0m                                                     ^\u001b[0m\n\u001b[0;31mSyntaxError\u001b[0m\u001b[0;31m:\u001b[0m unmatched ')'\n"
     ]
    }
   ],
   "source": [
    "df = df4532[df4532['ds']<pd.to_datetime('2020-04-01')]\n",
    "fig, (ax0,ax1) = plt.subplots(1,2, figsize=(25,10))\n",
    "ax0.plot(df['ds'],df['y'], label = 'target')\n",
    "ax0.plot(arr[0], arr[1], label ='predicted')\n",
    "ax0.set_xlabel('Time yyyy-mm')\n",
    "ax0.set_ylabel('Values')\n",
    "ax0.legend()\n",
    "target = []\n",
    "for date in arr[0]:\n",
    "    temp = df[df['ds']>=date]\n",
    "    target.append(temp.iloc[0])\n",
    "target = pd.DataFrame(target)\n",
    "err = np.array(target['y'])-np.array(arr[1])\n",
    "ax1.plot(arr[0], err, label ='target-pred')\n",
    "monkey = []\n",
    "for date in arr[0]:\n",
    "    temp = df[df['ds']<date]\n",
    "    monkey.append(temp.iloc[-1])\n",
    "monkey = pd.DataFrame(monkey)\n",
    "err = np.array(target['y'])-np.array(monkey['y']))\n",
    "ax1.plot(arr[0], err, label ='target-monkey')\n",
    "fig.suptitle('S2B08 Prophet - 45x32')\n",
    "ax1.set_xlabel('Time yyyy-mm')\n",
    "ax1.set_ylabel('Errors')\n",
    "ax1.legend()\n",
    "plt.show()\n",
    "plt.close()"
   ]
  },
  {
   "cell_type": "code",
   "execution_count": null,
   "id": "e55ad6a4-c423-4d94-914c-c118cf5a5f64",
   "metadata": {},
   "outputs": [],
   "source": [
    "arr = np.load('./b082516.npy', allow_pickle=True)\n",
    "arr = pd.DataFrame(arr)"
   ]
  },
  {
   "cell_type": "code",
   "execution_count": null,
   "id": "0ef35a80-0642-492f-8fec-f9fabd35256f",
   "metadata": {},
   "outputs": [],
   "source": [
    "df = df2516[df2516['ds']<pd.to_datetime('2020-04-01')]\n",
    "fig, (ax0,ax1) = plt.subplots(1,2, figsize=(25,10))\n",
    "fig.suptitle('S2B08 Prophet - 25x16')\n",
    "ax0.plot(df['ds'],df['y'], label = 'target')\n",
    "ax0.plot(arr[0], arr[1], label ='predicted')\n",
    "ax0.set_xlabel('Time yyyy-mm')\n",
    "ax0.set_ylabel('Values')\n",
    "ax0.legend()\n",
    "target = []\n",
    "for date in arr[0]:\n",
    "    temp = df[df['ds']>=date]\n",
    "    target.append(temp.iloc[0])\n",
    "target = pd.DataFrame(target)\n",
    "err = np.array(target['y'])-np.array(arr[1])\n",
    "ax1.plot(arr[0], err, label ='target-pred')\n",
    "monkey = []\n",
    "for date in arr[0]:\n",
    "    temp = df[df['ds']<date]\n",
    "    monkey.append(temp.iloc[-1])\n",
    "monkey = pd.DataFrame(monkey)\n",
    "err = np.array(target['y'])-np.array(monkey['y']))\n",
    "ax1.plot(arr[0], err, label ='target-monkey')\n",
    "ax1.set_xlabel('Time yyyy-mm')\n",
    "ax1.set_ylabel('Errors')\n",
    "ax1.legend()\n",
    "plt.show()\n",
    "plt.close()"
   ]
  },
  {
   "cell_type": "code",
   "execution_count": null,
   "id": "7b90908d-98bf-455e-bc00-e6d2924c218f",
   "metadata": {},
   "outputs": [],
   "source": [
    "#Sentinel 1 without seperation"
   ]
  },
  {
   "cell_type": "code",
   "execution_count": null,
   "id": "36c7db69-4781-4792-89a6-2979ab7d2ae6",
   "metadata": {},
   "outputs": [],
   "source": [
    "arr = np.load('./s1_4532.npy', allow_pickle=True)\n",
    "arr = pd.DataFrame(arr)"
   ]
  },
  {
   "cell_type": "code",
   "execution_count": null,
   "id": "48d9ba6e-129d-407c-85ef-8d4fffbf71f3",
   "metadata": {},
   "outputs": [],
   "source": [
    "df = pd.read_pickle('../namelist/s1_alltime.pkl')\n",
    "df['start_datetime'] = pd.to_datetime(df['start_datetime'])\n",
    "date = sorted(list(set(df['start_datetime'].values)))\n",
    "#date = pd.DataFrame(date)\n",
    "ip = np.load('../namelist/s1_alltime.npy')\n",
    "ip4532 = ip[:, 45, 32]\n",
    "ip2516 = ip[:, 25, 16]\n",
    "df4532 = {'ds':date,'y':ip4532}\n",
    "df4532 = pd.DataFrame(df4532)\n",
    "df4532 = df4532[df4532['y']!=255]\n",
    "df2516 = {'ds':date,'y':ip2516}\n",
    "df2516 = pd.DataFrame(df2516)\n",
    "df2516 = df2516[df2516['y']!=255]"
   ]
  },
  {
   "cell_type": "code",
   "execution_count": null,
   "id": "3ffe0354-69bf-4543-80aa-7adaf9713714",
   "metadata": {},
   "outputs": [],
   "source": [
    "df = df4532[df4532['ds']<pd.to_datetime('2020-04-01')]\n",
    "fig, (ax0,ax1) = plt.subplots(1,2, figsize=(25,10))\n",
    "ax0.plot(df['ds'],df['y'], label = 'target')\n",
    "ax0.plot(arr[0], arr[1], label ='predicted')\n",
    "ax0.set_xlabel('Time yyyy-mm')\n",
    "ax0.set_ylabel('Values')\n",
    "ax0.legend()\n",
    "target = []\n",
    "for date in arr[0]:\n",
    "    temp = df[df['ds']>=date]\n",
    "    target.append(temp.iloc[0])\n",
    "target = pd.DataFrame(target)\n",
    "target['y'] =  target['y'].astype('uint8')\n",
    "err = np.array(target['y'])-np.array(arr[1])\n",
    "ax1.plot(arr[0], err, label ='target-pred')\n",
    "monkey = []\n",
    "for date in arr[0]:\n",
    "    temp = df[df['ds']<date]\n",
    "    monkey.append(temp.iloc[-1])\n",
    "monkey = pd.DataFrame(monkey)\n",
    "monkey['y'] =  monkey['y'].astype('uint8')\n",
    "err = np.array(target['y'])-np.array(monkey['y']))\n",
    "ax1.plot(arr[0], err, label ='target-monkey')\n",
    "fig.suptitle('S1 Prophet - 45x32')\n",
    "ax1.set_xlabel('Time yyyy-mm')\n",
    "ax1.set_ylabel('Errors')\n",
    "ax1.legend()\n",
    "plt.show()\n",
    "plt.close()"
   ]
  },
  {
   "cell_type": "code",
   "execution_count": null,
   "id": "7d432c65-e310-46ae-b88a-7b2e9a9b5ba8",
   "metadata": {},
   "outputs": [],
   "source": [
    "arr = np.load('./s1_2516.npy', allow_pickle=True)\n",
    "arr = pd.DataFrame(arr)"
   ]
  },
  {
   "cell_type": "code",
   "execution_count": null,
   "id": "896473a5-f3c8-4f0f-be1f-6894cf8715ff",
   "metadata": {},
   "outputs": [],
   "source": [
    "df = df2516[df2516['ds']<pd.to_datetime('2020-04-01')]\n",
    "fig, (ax0,ax1) = plt.subplots(1,2, figsize=(25,10))\n",
    "fig.suptitle('S1 Prophet - 25x16')\n",
    "ax0.plot(df['ds'],df['y'], label = 'target')\n",
    "ax0.plot(arr[0], arr[1], label ='predicted')\n",
    "ax0.set_xlabel('Time yyyy-mm')\n",
    "ax0.set_ylabel('Values')\n",
    "ax0.legend()\n",
    "target = []\n",
    "for date in arr[0]:\n",
    "    temp = df[df['ds']>=date]\n",
    "    target.append(temp.iloc[0])\n",
    "target = pd.DataFrame(target)\n",
    "target['y'] =  target['y'].astype('uint8')\n",
    "err = np.array(target['y'])-np.array(arr[1])\n",
    "ax1.plot(arr[0], err, label ='target-pred')\n",
    "monkey = []\n",
    "for date in arr[0]:\n",
    "    temp = df[df['ds']<date]\n",
    "    monkey.append(temp.iloc[-1])\n",
    "monkey = pd.DataFrame(monkey)\n",
    "monkey['y'] =  monkey['y'].astype('uint8')\n",
    "err = np.array(target['y'])-np.array(monkey['y']))\n",
    "ax1.plot(arr[0], err, label ='target-monkey')\n",
    "ax1.set_xlabel('Time yyyy-mm')\n",
    "ax1.set_ylabel('Errors')\n",
    "ax1.legend()\n",
    "plt.show()\n",
    "plt.close()"
   ]
  },
  {
   "cell_type": "code",
   "execution_count": null,
   "id": "a243ea83-873a-4687-9eac-0cfa8d4cf255",
   "metadata": {},
   "outputs": [],
   "source": [
    "#Sentinel 1 Ascending"
   ]
  },
  {
   "cell_type": "code",
   "execution_count": null,
   "id": "7d2268e8-de6e-4585-9593-6108bc5ef7a9",
   "metadata": {},
   "outputs": [],
   "source": [
    "arr = np.load('./s1asc_4532.npy', allow_pickle=True)\n",
    "arr = pd.DataFrame(arr)"
   ]
  },
  {
   "cell_type": "code",
   "execution_count": null,
   "id": "dfe66100-5a71-4ad9-a95d-6332885c7769",
   "metadata": {},
   "outputs": [],
   "source": [
    "df = pd.read_pickle('../namelist/s1_dates_a.pkl')\n",
    "df['start_datetime'] = pd.to_datetime(df[0])\n",
    "df.sort_index(inplace=True)\n",
    "#df['start_datetime'] = pd.to_datetime(df['start_datetime'])\n",
    "date = sorted(list(set(df['start_datetime'].values)))\n",
    "#date = pd.DataFrame(date)\n",
    "ip = np.load('../namelist/s1_dates_a.npy')\n",
    "#ip = np.swapaxes(ip,0,2)\n",
    "ip4532 = ip[:, 45, 32]\n",
    "ip2516 = ip[:, 25, 16]\n",
    "df4532 = {'ds':date,'y':ip4532}\n",
    "df4532 = pd.DataFrame(df4532)\n",
    "df4532 = df4532[df4532['y']!=255]\n",
    "df2516 = {'ds':date,'y':ip2516}\n",
    "df2516 = pd.DataFrame(df2516)\n",
    "df2516 = df2516[df2516['y']!=255]"
   ]
  },
  {
   "cell_type": "code",
   "execution_count": null,
   "id": "4a49b404-6e00-4fd7-a439-cb6a63153d07",
   "metadata": {},
   "outputs": [],
   "source": [
    "df = df4532[df4532['ds']<pd.to_datetime('2020-04-01')]\n",
    "fig, (ax0,ax1) = plt.subplots(1,2, figsize=(25,10))\n",
    "ax0.plot(df['ds'],df['y'], label = 'target')\n",
    "ax0.plot(arr[0], arr[1], label ='predicted')\n",
    "ax0.set_xlabel('Time yyyy-mm')\n",
    "ax0.set_ylabel('Values')\n",
    "ax0.legend()\n",
    "target = []\n",
    "for date in arr[0]:\n",
    "    temp = df[df['ds']>=date]\n",
    "    target.append(temp.iloc[0])\n",
    "target = pd.DataFrame(target)\n",
    "target['y'] =  target['y'].astype('uint8')\n",
    "err = np.array(target['y'])-np.array(arr[1])\n",
    "ax1.plot(arr[0], err, label ='target-pred')\n",
    "monkey = []\n",
    "for date in arr[0]:\n",
    "    temp = df[df['ds']<date]\n",
    "    monkey.append(temp.iloc[-1])\n",
    "monkey = pd.DataFrame(monkey)\n",
    "monkey['y'] =  monkey['y'].astype('uint8')\n",
    "err = np.array(target['y'])-np.array(monkey['y']))\n",
    "ax1.plot(arr[0], err, label ='target-monkey')\n",
    "fig.suptitle('S1 Asc Prophet - 45x32')\n",
    "ax1.set_xlabel('Time yyyy-mm')\n",
    "ax1.set_ylabel('Errors')\n",
    "ax1.legend()\n",
    "plt.show()\n",
    "plt.close()"
   ]
  },
  {
   "cell_type": "code",
   "execution_count": null,
   "id": "204d3c54-4deb-4ea9-a2c5-e4831ec9d721",
   "metadata": {},
   "outputs": [],
   "source": [
    "arr = np.load('./s1asc_2516.npy', allow_pickle=True)\n",
    "arr = pd.DataFrame(arr)"
   ]
  },
  {
   "cell_type": "code",
   "execution_count": null,
   "id": "0be9b993-bb43-4837-826f-062af745854c",
   "metadata": {},
   "outputs": [],
   "source": [
    "df = df2516[df2516['ds']<pd.to_datetime('2020-04-01')]\n",
    "fig, (ax0,ax1) = plt.subplots(1,2, figsize=(25,10))\n",
    "fig.suptitle('S1 Asc Prophet - 25x16')\n",
    "ax0.plot(df['ds'],df['y'], label = 'target')\n",
    "ax0.plot(arr[0], arr[1], label ='predicted')\n",
    "ax0.set_xlabel('Time yyyy-mm')\n",
    "ax0.set_ylabel('Values')\n",
    "ax0.legend()\n",
    "target = []\n",
    "for date in arr[0]:\n",
    "    temp = df[df['ds']>=date]\n",
    "    target.append(temp.iloc[0])\n",
    "target = pd.DataFrame(target)\n",
    "target['y'] =  target['y'].astype('uint8')\n",
    "err = np.array(target['y'])-np.array(arr[1])\n",
    "ax1.plot(arr[0], err, label ='target-pred')\n",
    "monkey = []\n",
    "for date in arr[0]:\n",
    "    temp = df[df['ds']<date]\n",
    "    monkey.append(temp.iloc[-1])\n",
    "monkey = pd.DataFrame(monkey)\n",
    "monkey['y'] =  monkey['y'].astype('uint8')\n",
    "err = np.array(target['y'])-np.array(monkey['y']))\n",
    "ax1.plot(arr[0], err, label ='target-monkey')\n",
    "ax1.set_xlabel('Time yyyy-mm')\n",
    "ax1.set_ylabel('Errors')\n",
    "ax1.legend()\n",
    "plt.show()\n",
    "plt.close()"
   ]
  },
  {
   "cell_type": "code",
   "execution_count": null,
   "id": "67aae5bf-4c6e-48cc-b580-15464bf2c9f2",
   "metadata": {},
   "outputs": [],
   "source": [
    "#Sentinel 1 Descending"
   ]
  },
  {
   "cell_type": "code",
   "execution_count": null,
   "id": "928c8100-0383-4244-b6fc-99cdbc8b9a70",
   "metadata": {},
   "outputs": [],
   "source": [
    "arr = np.load('./s1dsc_4532.npy', allow_pickle=True)\n",
    "arr = pd.DataFrame(arr)"
   ]
  },
  {
   "cell_type": "code",
   "execution_count": null,
   "id": "5107a6b6-df8d-4a32-90a4-a91873eae088",
   "metadata": {},
   "outputs": [],
   "source": [
    "df = pd.read_pickle('../namelist/s1_dates_d.pkl')\n",
    "df['start_datetime'] = pd.to_datetime(df[0])\n",
    "df.sort_index(inplace=True)\n",
    "#df['start_datetime'] = pd.to_datetime(df['start_datetime'])\n",
    "date = sorted(list(set(df['start_datetime'].values)))\n",
    "#date = pd.DataFrame(date)\n",
    "ip = np.load('../namelist/s1_dates_d.npy')\n",
    "#ip = np.swapaxes(ip,0,2)\n",
    "ip4532 = ip[:, 45, 32]\n",
    "ip2516 = ip[:, 25, 16]\n",
    "df4532 = {'ds':date,'y':ip4532}\n",
    "df4532 = pd.DataFrame(df4532)\n",
    "df4532 = df4532[df4532['y']!=255]\n",
    "df2516 = {'ds':date,'y':ip2516}\n",
    "df2516 = pd.DataFrame(df2516)\n",
    "df2516 = df2516[df2516['y']!=255]"
   ]
  },
  {
   "cell_type": "code",
   "execution_count": null,
   "id": "5792dff9-79bb-4cf0-9a85-6ec4a40db2b2",
   "metadata": {},
   "outputs": [],
   "source": [
    "df = df4532[df4532['ds']<pd.to_datetime('2020-04-01')]\n",
    "fig, (ax0,ax1) = plt.subplots(1,2, figsize=(25,10))\n",
    "ax0.plot(df['ds'],df['y'], label = 'target')\n",
    "ax0.plot(arr[0], arr[1], label ='predicted')\n",
    "ax0.set_xlabel('Time yyyy-mm')\n",
    "ax0.set_ylabel('Values')\n",
    "ax0.legend()\n",
    "target = []\n",
    "for date in arr[0]:\n",
    "    temp = df[df['ds']>=date]\n",
    "    target.append(temp.iloc[0])\n",
    "target = pd.DataFrame(target)\n",
    "target['y'] =  target['y'].astype('uint8')\n",
    "err = np.array(target['y'])-np.array(arr[1])\n",
    "ax1.plot(arr[0], err, label ='target-pred')\n",
    "monkey = []\n",
    "for date in arr[0]:\n",
    "    temp = df[df['ds']<date]\n",
    "    monkey.append(temp.iloc[-1])\n",
    "monkey = pd.DataFrame(monkey)\n",
    "monkey['y'] =  monkey['y'].astype('uint8')\n",
    "err = np.array(target['y'])-np.array(monkey['y']))\n",
    "ax1.plot(arr[0], err, label ='target-monkey')\n",
    "fig.suptitle('S1 Dsc Prophet - 45x32')\n",
    "ax1.set_xlabel('Time yyyy-mm')\n",
    "ax1.set_ylabel('Errors')\n",
    "ax1.legend()\n",
    "plt.show()\n",
    "plt.close()"
   ]
  },
  {
   "cell_type": "code",
   "execution_count": null,
   "id": "c8f73c67-a64a-46da-85be-461e6e677b01",
   "metadata": {},
   "outputs": [],
   "source": [
    "arr = np.load('./s1dsc_2516.npy', allow_pickle=True)\n",
    "arr = pd.DataFrame(arr)"
   ]
  },
  {
   "cell_type": "code",
   "execution_count": null,
   "id": "45778e12-6233-47df-bf29-36fda56bcb90",
   "metadata": {},
   "outputs": [],
   "source": [
    "df = df2516[df2516['ds']<pd.to_datetime('2020-04-01')]\n",
    "fig, (ax0,ax1) = plt.subplots(1,2, figsize=(25,10))\n",
    "fig.suptitle('S1 Dsc Prophet - 25x16')\n",
    "ax0.plot(df['ds'],df['y'], label = 'target')\n",
    "ax0.plot(arr[0], arr[1], label ='predicted')\n",
    "ax0.set_xlabel('Time yyyy-mm')\n",
    "ax0.set_ylabel('Values')\n",
    "ax0.legend()\n",
    "target = []\n",
    "for date in arr[0]:\n",
    "    temp = df[df['ds']>=date]\n",
    "    target.append(temp.iloc[0])\n",
    "target = pd.DataFrame(target)\n",
    "target['y'] =  target['y'].astype('uint8')\n",
    "err = np.array(target['y'])-np.array(arr[1])\n",
    "ax1.plot(arr[0], err, label ='target-pred')\n",
    "monkey = []\n",
    "for date in arr[0]:\n",
    "    temp = df[df['ds']<date]\n",
    "    monkey.append(temp.iloc[-1])\n",
    "monkey = pd.DataFrame(monkey)\n",
    "monkey['y'] =  monkey['y'].astype('uint8')\n",
    "err = np.array(target['y'])-np.array(monkey['y']))\n",
    "ax1.plot(arr[0], err, label ='target-monkey')\n",
    "ax1.set_xlabel('Time yyyy-mm')\n",
    "ax1.set_ylabel('Errors')\n",
    "ax1.legend()\n",
    "plt.show()\n",
    "plt.close()"
   ]
  },
  {
   "cell_type": "code",
   "execution_count": null,
   "id": "303d36ea-fbbc-438d-8382-2ef177fe213e",
   "metadata": {},
   "outputs": [],
   "source": []
  }
 ],
 "metadata": {
  "kernelspec": {
   "display_name": "Python 3 (ipykernel)",
   "language": "python",
   "name": "python3"
  },
  "language_info": {
   "codemirror_mode": {
    "name": "ipython",
    "version": 3
   },
   "file_extension": ".py",
   "mimetype": "text/x-python",
   "name": "python",
   "nbconvert_exporter": "python",
   "pygments_lexer": "ipython3",
   "version": "3.8.3"
  }
 },
 "nbformat": 4,
 "nbformat_minor": 5
}
