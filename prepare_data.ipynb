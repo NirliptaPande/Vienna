{
 "cells": [
  {
   "cell_type": "code",
   "execution_count": 1,
   "id": "9b931079-96b9-4638-a134-d9544f91f23c",
   "metadata": {},
   "outputs": [],
   "source": [
    "import numpy as np\n",
    "import datetime\n",
    "from mantle_utils.workflow.enqueue import get_raster_stack_paths_and_metadata\n",
    "from mantle_utils.workflow.process import sanitize_raster_stack_paths_and_metadata\n",
    "from mantle_utils.workflow.metadatadb.product import ProductCollection\n",
    "from mantle_utils.workflow.metadatadb.product import create_s2_tile_idx_search_dict\n",
    "from mantle_utils.workflow.metadatadb.product import create_datetime_search_dict\n",
    "import pandas as pd\n"
   ]
  },
  {
   "cell_type": "code",
   "execution_count": 2,
   "id": "b491c662-3ee9-4bf4-9f69-5f4db6afe301",
   "metadata": {},
   "outputs": [],
   "source": [
    "stacking_source_run_name = 'nirlipta_30UXB_stack'\n",
    "tile_idx = '30UXB'\n",
    "\n",
    "stack_raster_paths, stack_metadata = \\\n",
    "    get_raster_stack_paths_and_metadata(\n",
    "        env_name='production',\n",
    "        stacking_source_run_name=stacking_source_run_name,\n",
    "        tile_idx=tile_idx,\n",
    "        raise_on_inconsistent_stack=False)\n",
    "   \n",
    "stack_df = sanitize_raster_stack_paths_and_metadata(\n",
    "    raster_paths=stack_raster_paths,\n",
    "    stack_metadata=stack_metadata,\n",
    "    sanitize_paths=False)\n",
    "\n",
    "product_collection = ProductCollection()\n",
    "\n",
    "product_tile_search_dict = \\\n",
    "    create_s2_tile_idx_search_dict(tile_idx=tile_idx)\n",
    "\n",
    "stack_df = stack_df[stack_df['source_workflow_name'] == 's1-generate_composites']\n",
    "sorted_datetimes_asc =[]\n",
    "sorted_datetimes_dsc =[]\n",
    "sorted_datetimes = sorted(list(set(\n",
    "stack_df['start_datetime'].values)))"
   ]
  },
  {
   "cell_type": "code",
   "execution_count": 7,
   "id": "0d2e11c3-76ce-4af3-866a-4000f5c54b48",
   "metadata": {},
   "outputs": [],
   "source": [
    "\n",
    "stack_df.to_pickle('./namelist/s1_alltime.pkl')"
   ]
  },
  {
   "cell_type": "code",
   "execution_count": 8,
   "id": "9e51dc44-3f14-4477-89b0-f58d0332ae78",
   "metadata": {},
   "outputs": [],
   "source": [
    "for start_datetime_np in sorted_datetimes:\n",
    "    start_datetime = datetime.datetime.utcfromtimestamp(\n",
    "        start_datetime_np.astype(int) * 1e-9)\n",
    "\n",
    "    product_datetime_search_dict = \\\n",
    "        create_datetime_search_dict(\n",
    "            datetime=start_datetime)\n",
    "    \n",
    "    search_dict = {\n",
    "        'product_metadata.year': start_datetime.year,\n",
    "        'product_metadata.month': start_datetime.month,\n",
    "        'product_metadata.day': start_datetime.day,\n",
    "        **product_tile_search_dict}\n",
    "\n",
    "    products = product_collection.find_in_db(\n",
    "        env_name='production',\n",
    "        projection_dict={\n",
    "            '_id': 0,\n",
    "            'product_metadata.pass': 1},\n",
    "        workflow_name='s1-generate_s2tiles',\n",
    "        run_name='v1.0-v1.0',\n",
    "        search_dict=search_dict)\n",
    "\n",
    "    if products[0]['product_metadata']['pass'] == 'ASCENDING':\n",
    "        sorted_datetimes_asc.append(start_datetime_np)\n",
    "    if products[0]['product_metadata']['pass'] == 'DESCENDING':\n",
    "        sorted_datetimes_dsc.append(start_datetime_np)"
   ]
  },
  {
   "cell_type": "code",
   "execution_count": 10,
   "id": "8f3957e0-105f-4bea-acdf-560562060fd3",
   "metadata": {},
   "outputs": [],
   "source": [
    "dt_sort_a = pd.DataFrame(sorted_datetimes_asc)\n",
    "dt_sort_d = pd.DataFrame(sorted_datetimes_dsc)\n",
    "dt_sort_a.to_pickle('./namelist/s1_dates_a.pkl')\n",
    "dt_sort_d.to_pickle('./namelist/s1_dates_d.pkl')\n"
   ]
  },
  {
   "cell_type": "code",
   "execution_count": 42,
   "id": "d11576ea-8346-4fe1-b1d5-f00da8a2adac",
   "metadata": {},
   "outputs": [],
   "source": [
    "test = pd.read_pickle('./namelist/s1_dates_a.pkl')"
   ]
  },
  {
   "cell_type": "code",
   "execution_count": 43,
   "id": "ced55215-2f0f-47c9-8a75-4c9042d30063",
   "metadata": {},
   "outputs": [
    {
     "data": {
      "text/plain": [
       "pandas.core.frame.DataFrame"
      ]
     },
     "execution_count": 43,
     "metadata": {},
     "output_type": "execute_result"
    }
   ],
   "source": [
    "type(test)"
   ]
  },
  {
   "cell_type": "code",
   "execution_count": 44,
   "id": "e6cfc918-ff1d-4c1e-93c2-62a8f7e50b1a",
   "metadata": {},
   "outputs": [
    {
     "data": {
      "text/html": [
       "<div>\n",
       "<style scoped>\n",
       "    .dataframe tbody tr th:only-of-type {\n",
       "        vertical-align: middle;\n",
       "    }\n",
       "\n",
       "    .dataframe tbody tr th {\n",
       "        vertical-align: top;\n",
       "    }\n",
       "\n",
       "    .dataframe thead th {\n",
       "        text-align: right;\n",
       "    }\n",
       "</style>\n",
       "<table border=\"1\" class=\"dataframe\">\n",
       "  <thead>\n",
       "    <tr style=\"text-align: right;\">\n",
       "      <th></th>\n",
       "      <th>0</th>\n",
       "    </tr>\n",
       "  </thead>\n",
       "  <tbody>\n",
       "    <tr>\n",
       "      <th>0</th>\n",
       "      <td>2019-01-02</td>\n",
       "    </tr>\n",
       "    <tr>\n",
       "      <th>1</th>\n",
       "      <td>2019-01-04</td>\n",
       "    </tr>\n",
       "    <tr>\n",
       "      <th>2</th>\n",
       "      <td>2019-01-08</td>\n",
       "    </tr>\n",
       "    <tr>\n",
       "      <th>3</th>\n",
       "      <td>2019-01-09</td>\n",
       "    </tr>\n",
       "    <tr>\n",
       "      <th>4</th>\n",
       "      <td>2019-01-10</td>\n",
       "    </tr>\n",
       "  </tbody>\n",
       "</table>\n",
       "</div>"
      ],
      "text/plain": [
       "           0\n",
       "0 2019-01-02\n",
       "1 2019-01-04\n",
       "2 2019-01-08\n",
       "3 2019-01-09\n",
       "4 2019-01-10"
      ]
     },
     "execution_count": 44,
     "metadata": {},
     "output_type": "execute_result"
    }
   ],
   "source": [
    "test.head()"
   ]
  },
  {
   "cell_type": "code",
   "execution_count": 46,
   "id": "2805540a-f184-48c4-8400-c1b140d7dc13",
   "metadata": {},
   "outputs": [
    {
     "name": "stdout",
     "output_type": "stream",
     "text": [
      "RangeIndex(start=0, stop=1, step=1)\n",
      "Index(['start_time'], dtype='object')\n"
     ]
    }
   ],
   "source": [
    "print(test.columns)\n",
    "test.columns =['start_time']\n",
    "print(test.columns)"
   ]
  },
  {
   "cell_type": "code",
   "execution_count": 47,
   "id": "3fa9684c-789c-4cb5-a10c-4a8fb7c87892",
   "metadata": {},
   "outputs": [],
   "source": [
    "test['start_time'] = pd.to_datetime(test['start_time'])"
   ]
  },
  {
   "cell_type": "code",
   "execution_count": 48,
   "id": "d73bd39b-6033-4512-b674-848e7c9b6016",
   "metadata": {},
   "outputs": [
    {
     "name": "stdout",
     "output_type": "stream",
     "text": [
      "Index(['start_time'], dtype='object')\n"
     ]
    }
   ],
   "source": [
    "print(test.columns)"
   ]
  },
  {
   "cell_type": "code",
   "execution_count": null,
   "id": "4f8b19d0-37e8-450e-84cb-a0514f9bf146",
   "metadata": {},
   "outputs": [],
   "source": []
  }
 ],
 "metadata": {
  "kernelspec": {
   "display_name": "Python 3 (ipykernel)",
   "language": "python",
   "name": "python3"
  },
  "language_info": {
   "codemirror_mode": {
    "name": "ipython",
    "version": 3
   },
   "file_extension": ".py",
   "mimetype": "text/x-python",
   "name": "python",
   "nbconvert_exporter": "python",
   "pygments_lexer": "ipython3",
   "version": "3.8.3"
  }
 },
 "nbformat": 4,
 "nbformat_minor": 5
}
