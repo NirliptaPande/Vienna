{
 "cells": [
  {
   "cell_type": "code",
   "execution_count": 1,
   "id": "9b931079-96b9-4638-a134-d9544f91f23c",
   "metadata": {},
   "outputs": [],
   "source": [
    "import numpy as np\n",
    "import datetime\n",
    "from mantle_utils.workflow.enqueue import get_raster_stack_paths_and_metadata\n",
    "from mantle_utils.workflow.process import sanitize_raster_stack_paths_and_metadata\n",
    "from mantle_utils.workflow.metadatadb.product import ProductCollection\n",
    "from mantle_utils.workflow.metadatadb.product import create_s2_tile_idx_search_dict\n",
    "from mantle_utils.workflow.metadatadb.product import create_datetime_search_dict\n",
    "import pandas as pd\n"
   ]
  },
  {
   "cell_type": "code",
   "execution_count": 2,
   "id": "b491c662-3ee9-4bf4-9f69-5f4db6afe301",
   "metadata": {},
   "outputs": [],
   "source": [
    "stacking_source_run_name = 'nirlipta_30UXB_stack'\n",
    "tile_idx = '30UXB'\n",
    "\n",
    "stack_raster_paths, stack_metadata = \\\n",
    "    get_raster_stack_paths_and_metadata(\n",
    "        env_name='production',\n",
    "        stacking_source_run_name=stacking_source_run_name,\n",
    "        tile_idx=tile_idx,\n",
    "        raise_on_inconsistent_stack=False)\n",
    "   \n",
    "stack_df = sanitize_raster_stack_paths_and_metadata(\n",
    "    raster_paths=stack_raster_paths,\n",
    "    stack_metadata=stack_metadata,\n",
    "    sanitize_paths=False)\n",
    "\n",
    "product_collection = ProductCollection()\n",
    "\n",
    "product_tile_search_dict = \\\n",
    "    create_s2_tile_idx_search_dict(tile_idx=tile_idx)\n",
    "\n",
    "stack_df = stack_df[stack_df['source_workflow_name'] == 's1-generate_composites']\n",
    "sorted_datetimes_asc =[]\n",
    "sorted_datetimes_dsc =[]\n",
    "sorted_datetimes = sorted(list(set(\n",
    "stack_df['start_datetime'].values)))"
   ]
  },
  {
   "cell_type": "code",
   "execution_count": 7,
   "id": "0d2e11c3-76ce-4af3-866a-4000f5c54b48",
   "metadata": {},
   "outputs": [],
   "source": [
    "\n",
    "stack_df.to_pickle('./namelist/s1_alltime.pkl')"
   ]
  },
  {
   "cell_type": "code",
   "execution_count": 8,
   "id": "9e51dc44-3f14-4477-89b0-f58d0332ae78",
   "metadata": {},
   "outputs": [],
   "source": [
    "for start_datetime_np in sorted_datetimes:\n",
    "    start_datetime = datetime.datetime.utcfromtimestamp(\n",
    "        start_datetime_np.astype(int) * 1e-9)\n",
    "\n",
    "    product_datetime_search_dict = \\\n",
    "        create_datetime_search_dict(\n",
    "            datetime=start_datetime)\n",
    "    \n",
    "    search_dict = {\n",
    "        'product_metadata.year': start_datetime.year,\n",
    "        'product_metadata.month': start_datetime.month,\n",
    "        'product_metadata.day': start_datetime.day,\n",
    "        **product_tile_search_dict}\n",
    "\n",
    "    products = product_collection.find_in_db(\n",
    "        env_name='production',\n",
    "        projection_dict={\n",
    "            '_id': 0,\n",
    "            'product_metadata.pass': 1},\n",
    "        workflow_name='s1-generate_s2tiles',\n",
    "        run_name='v1.0-v1.0',\n",
    "        search_dict=search_dict)\n",
    "\n",
    "    if products[0]['product_metadata']['pass'] == 'ASCENDING':\n",
    "        sorted_datetimes_asc.append(start_datetime_np)\n",
    "    if products[0]['product_metadata']['pass'] == 'DESCENDING':\n",
    "        sorted_datetimes_dsc.append(start_datetime_np)"
   ]
  },
  {
   "cell_type": "code",
   "execution_count": 10,
   "id": "8f3957e0-105f-4bea-acdf-560562060fd3",
   "metadata": {},
   "outputs": [],
   "source": [
    "dt_sort_a = pd.DataFrame(sorted_datetimes_asc)\n",
    "dt_sort_d = pd.DataFrame(sorted_datetimes_dsc)\n",
    "dt_sort_a.to_pickle('./namelist/s1_dates_a.pkl')\n",
    "dt_sort_d.to_pickle('./namelist/s1_dates_d.pkl')\n"
   ]
  },
  {
   "cell_type": "code",
   "execution_count": 42,
   "id": "d11576ea-8346-4fe1-b1d5-f00da8a2adac",
   "metadata": {},
   "outputs": [],
   "source": [
    "test = pd.read_pickle('./namelist/s1_dates_a.pkl')"
   ]
  },
  {
   "cell_type": "code",
   "execution_count": 43,
   "id": "ced55215-2f0f-47c9-8a75-4c9042d30063",
   "metadata": {},
   "outputs": [
    {
     "data": {
      "text/plain": [
       "pandas.core.frame.DataFrame"
      ]
     },
     "execution_count": 43,
     "metadata": {},
     "output_type": "execute_result"
    }
   ],
   "source": [
    "type(test)"
   ]
  },
  {
   "cell_type": "code",
   "execution_count": 44,
   "id": "e6cfc918-ff1d-4c1e-93c2-62a8f7e50b1a",
   "metadata": {},
   "outputs": [
    {
     "data": {
      "text/html": [
       "<div>\n",
       "<style scoped>\n",
       "    .dataframe tbody tr th:only-of-type {\n",
       "        vertical-align: middle;\n",
       "    }\n",
       "\n",
       "    .dataframe tbody tr th {\n",
       "        vertical-align: top;\n",
       "    }\n",
       "\n",
       "    .dataframe thead th {\n",
       "        text-align: right;\n",
       "    }\n",
       "</style>\n",
       "<table border=\"1\" class=\"dataframe\">\n",
       "  <thead>\n",
       "    <tr style=\"text-align: right;\">\n",
       "      <th></th>\n",
       "      <th>0</th>\n",
       "    </tr>\n",
       "  </thead>\n",
       "  <tbody>\n",
       "    <tr>\n",
       "      <th>0</th>\n",
       "      <td>2019-01-02</td>\n",
       "    </tr>\n",
       "    <tr>\n",
       "      <th>1</th>\n",
       "      <td>2019-01-04</td>\n",
       "    </tr>\n",
       "    <tr>\n",
       "      <th>2</th>\n",
       "      <td>2019-01-08</td>\n",
       "    </tr>\n",
       "    <tr>\n",
       "      <th>3</th>\n",
       "      <td>2019-01-09</td>\n",
       "    </tr>\n",
       "    <tr>\n",
       "      <th>4</th>\n",
       "      <td>2019-01-10</td>\n",
       "    </tr>\n",
       "  </tbody>\n",
       "</table>\n",
       "</div>"
      ],
      "text/plain": [
       "           0\n",
       "0 2019-01-02\n",
       "1 2019-01-04\n",
       "2 2019-01-08\n",
       "3 2019-01-09\n",
       "4 2019-01-10"
      ]
     },
     "execution_count": 44,
     "metadata": {},
     "output_type": "execute_result"
    }
   ],
   "source": [
    "test.head()"
   ]
  },
  {
   "cell_type": "code",
   "execution_count": 46,
   "id": "2805540a-f184-48c4-8400-c1b140d7dc13",
   "metadata": {},
   "outputs": [
    {
     "name": "stdout",
     "output_type": "stream",
     "text": [
      "RangeIndex(start=0, stop=1, step=1)\n",
      "Index(['start_time'], dtype='object')\n"
     ]
    }
   ],
   "source": [
    "print(test.columns)\n",
    "test.columns =['start_time']\n",
    "print(test.columns)"
   ]
  },
  {
   "cell_type": "code",
   "execution_count": 47,
   "id": "3fa9684c-789c-4cb5-a10c-4a8fb7c87892",
   "metadata": {},
   "outputs": [],
   "source": [
    "test['start_time'] = pd.to_datetime(test['start_time'])"
   ]
  },
  {
   "cell_type": "code",
   "execution_count": 48,
   "id": "d73bd39b-6033-4512-b674-848e7c9b6016",
   "metadata": {},
   "outputs": [
    {
     "name": "stdout",
     "output_type": "stream",
     "text": [
      "Index(['start_time'], dtype='object')\n"
     ]
    }
   ],
   "source": [
    "print(test.columns)"
   ]
  },
  {
   "cell_type": "code",
   "execution_count": 2,
   "id": "4f8b19d0-37e8-450e-84cb-a0514f9bf146",
   "metadata": {},
   "outputs": [],
   "source": [
    "import datetime\n",
    "import pandas as pd\n",
    "from statsforecast.adapters.prophet import AutoARIMAProphet\n",
    "from pathlib import Path\n",
    "from mantle_utils.alg.raster import Raster\n",
    "from rasterio.windows import Window\n",
    "import numpy as np\n",
    "from multiprocessing import Pool\n",
    "import itertools\n",
    "import os.path"
   ]
  },
  {
   "cell_type": "code",
   "execution_count": 19,
   "id": "b04bb83a-2309-47b9-a155-22fcbefcaca9",
   "metadata": {},
   "outputs": [],
   "source": [
    "df = pd.read_pickle('./namelist/s2_06.pkl')"
   ]
  },
  {
   "cell_type": "code",
   "execution_count": 20,
   "id": "9d44977b-9ade-4548-b91d-5bde95d5b71f",
   "metadata": {},
   "outputs": [
    {
     "data": {
      "text/html": [
       "<div>\n",
       "<style scoped>\n",
       "    .dataframe tbody tr th:only-of-type {\n",
       "        vertical-align: middle;\n",
       "    }\n",
       "\n",
       "    .dataframe tbody tr th {\n",
       "        vertical-align: top;\n",
       "    }\n",
       "\n",
       "    .dataframe thead th {\n",
       "        text-align: right;\n",
       "    }\n",
       "</style>\n",
       "<table border=\"1\" class=\"dataframe\">\n",
       "  <thead>\n",
       "    <tr style=\"text-align: right;\">\n",
       "      <th></th>\n",
       "      <th>stack_artefact_name</th>\n",
       "      <th>source_artefact_name</th>\n",
       "      <th>source_run_name</th>\n",
       "      <th>source_workflow_name</th>\n",
       "      <th>start_datetime</th>\n",
       "      <th>end_datetime</th>\n",
       "      <th>raster_path</th>\n",
       "    </tr>\n",
       "  </thead>\n",
       "  <tbody>\n",
       "    <tr>\n",
       "      <th>2612</th>\n",
       "      <td>2612</td>\n",
       "      <td>B06</td>\n",
       "      <td>nirlipta_30UXB</td>\n",
       "      <td>s2-generate_composites</td>\n",
       "      <td>2019-01-02</td>\n",
       "      <td>2019-01-02</td>\n",
       "      <td>s3://mantlelabs-eu-workflows/stacking-generate...</td>\n",
       "    </tr>\n",
       "    <tr>\n",
       "      <th>2613</th>\n",
       "      <td>2613</td>\n",
       "      <td>B06</td>\n",
       "      <td>nirlipta_30UXB</td>\n",
       "      <td>s2-generate_composites</td>\n",
       "      <td>2019-01-04</td>\n",
       "      <td>2019-01-04</td>\n",
       "      <td>s3://mantlelabs-eu-workflows/stacking-generate...</td>\n",
       "    </tr>\n",
       "    <tr>\n",
       "      <th>2614</th>\n",
       "      <td>2614</td>\n",
       "      <td>B06</td>\n",
       "      <td>nirlipta_30UXB</td>\n",
       "      <td>s2-generate_composites</td>\n",
       "      <td>2019-01-05</td>\n",
       "      <td>2019-01-05</td>\n",
       "      <td>s3://mantlelabs-eu-workflows/stacking-generate...</td>\n",
       "    </tr>\n",
       "    <tr>\n",
       "      <th>2615</th>\n",
       "      <td>2615</td>\n",
       "      <td>B06</td>\n",
       "      <td>nirlipta_30UXB</td>\n",
       "      <td>s2-generate_composites</td>\n",
       "      <td>2019-01-07</td>\n",
       "      <td>2019-01-07</td>\n",
       "      <td>s3://mantlelabs-eu-workflows/stacking-generate...</td>\n",
       "    </tr>\n",
       "    <tr>\n",
       "      <th>2616</th>\n",
       "      <td>2616</td>\n",
       "      <td>B06</td>\n",
       "      <td>nirlipta_30UXB</td>\n",
       "      <td>s2-generate_composites</td>\n",
       "      <td>2019-01-09</td>\n",
       "      <td>2019-01-09</td>\n",
       "      <td>s3://mantlelabs-eu-workflows/stacking-generate...</td>\n",
       "    </tr>\n",
       "    <tr>\n",
       "      <th>...</th>\n",
       "      <td>...</td>\n",
       "      <td>...</td>\n",
       "      <td>...</td>\n",
       "      <td>...</td>\n",
       "      <td>...</td>\n",
       "      <td>...</td>\n",
       "      <td>...</td>\n",
       "    </tr>\n",
       "    <tr>\n",
       "      <th>3260</th>\n",
       "      <td>3260</td>\n",
       "      <td>B06</td>\n",
       "      <td>nirlipta_30UXB</td>\n",
       "      <td>s2-generate_composites</td>\n",
       "      <td>2021-12-24</td>\n",
       "      <td>2021-12-24</td>\n",
       "      <td>s3://mantlelabs-eu-workflows/stacking-generate...</td>\n",
       "    </tr>\n",
       "    <tr>\n",
       "      <th>3261</th>\n",
       "      <td>3261</td>\n",
       "      <td>B06</td>\n",
       "      <td>nirlipta_30UXB</td>\n",
       "      <td>s2-generate_composites</td>\n",
       "      <td>2021-12-25</td>\n",
       "      <td>2021-12-25</td>\n",
       "      <td>s3://mantlelabs-eu-workflows/stacking-generate...</td>\n",
       "    </tr>\n",
       "    <tr>\n",
       "      <th>3262</th>\n",
       "      <td>3262</td>\n",
       "      <td>B06</td>\n",
       "      <td>nirlipta_30UXB</td>\n",
       "      <td>s2-generate_composites</td>\n",
       "      <td>2021-12-27</td>\n",
       "      <td>2021-12-27</td>\n",
       "      <td>s3://mantlelabs-eu-workflows/stacking-generate...</td>\n",
       "    </tr>\n",
       "    <tr>\n",
       "      <th>3263</th>\n",
       "      <td>3263</td>\n",
       "      <td>B06</td>\n",
       "      <td>nirlipta_30UXB</td>\n",
       "      <td>s2-generate_composites</td>\n",
       "      <td>2021-12-29</td>\n",
       "      <td>2021-12-29</td>\n",
       "      <td>s3://mantlelabs-eu-workflows/stacking-generate...</td>\n",
       "    </tr>\n",
       "    <tr>\n",
       "      <th>3264</th>\n",
       "      <td>3264</td>\n",
       "      <td>B06</td>\n",
       "      <td>nirlipta_30UXB</td>\n",
       "      <td>s2-generate_composites</td>\n",
       "      <td>2021-12-30</td>\n",
       "      <td>2021-12-30</td>\n",
       "      <td>s3://mantlelabs-eu-workflows/stacking-generate...</td>\n",
       "    </tr>\n",
       "  </tbody>\n",
       "</table>\n",
       "<p>653 rows × 7 columns</p>\n",
       "</div>"
      ],
      "text/plain": [
       "     stack_artefact_name source_artefact_name source_run_name  \\\n",
       "2612                2612                  B06  nirlipta_30UXB   \n",
       "2613                2613                  B06  nirlipta_30UXB   \n",
       "2614                2614                  B06  nirlipta_30UXB   \n",
       "2615                2615                  B06  nirlipta_30UXB   \n",
       "2616                2616                  B06  nirlipta_30UXB   \n",
       "...                  ...                  ...             ...   \n",
       "3260                3260                  B06  nirlipta_30UXB   \n",
       "3261                3261                  B06  nirlipta_30UXB   \n",
       "3262                3262                  B06  nirlipta_30UXB   \n",
       "3263                3263                  B06  nirlipta_30UXB   \n",
       "3264                3264                  B06  nirlipta_30UXB   \n",
       "\n",
       "        source_workflow_name start_datetime end_datetime  \\\n",
       "2612  s2-generate_composites     2019-01-02   2019-01-02   \n",
       "2613  s2-generate_composites     2019-01-04   2019-01-04   \n",
       "2614  s2-generate_composites     2019-01-05   2019-01-05   \n",
       "2615  s2-generate_composites     2019-01-07   2019-01-07   \n",
       "2616  s2-generate_composites     2019-01-09   2019-01-09   \n",
       "...                      ...            ...          ...   \n",
       "3260  s2-generate_composites     2021-12-24   2021-12-24   \n",
       "3261  s2-generate_composites     2021-12-25   2021-12-25   \n",
       "3262  s2-generate_composites     2021-12-27   2021-12-27   \n",
       "3263  s2-generate_composites     2021-12-29   2021-12-29   \n",
       "3264  s2-generate_composites     2021-12-30   2021-12-30   \n",
       "\n",
       "                                            raster_path  \n",
       "2612  s3://mantlelabs-eu-workflows/stacking-generate...  \n",
       "2613  s3://mantlelabs-eu-workflows/stacking-generate...  \n",
       "2614  s3://mantlelabs-eu-workflows/stacking-generate...  \n",
       "2615  s3://mantlelabs-eu-workflows/stacking-generate...  \n",
       "2616  s3://mantlelabs-eu-workflows/stacking-generate...  \n",
       "...                                                 ...  \n",
       "3260  s3://mantlelabs-eu-workflows/stacking-generate...  \n",
       "3261  s3://mantlelabs-eu-workflows/stacking-generate...  \n",
       "3262  s3://mantlelabs-eu-workflows/stacking-generate...  \n",
       "3263  s3://mantlelabs-eu-workflows/stacking-generate...  \n",
       "3264  s3://mantlelabs-eu-workflows/stacking-generate...  \n",
       "\n",
       "[653 rows x 7 columns]"
      ]
     },
     "execution_count": 20,
     "metadata": {},
     "output_type": "execute_result"
    }
   ],
   "source": [
    "df"
   ]
  },
  {
   "cell_type": "code",
   "execution_count": 21,
   "id": "1943cf05-a5ce-47ee-80f9-380b02e057d7",
   "metadata": {},
   "outputs": [
    {
     "data": {
      "text/plain": [
       "{'driver': 'GTiff', 'dtype': 'uint16', 'nodata': 0.0, 'width': 10980, 'height': 10980, 'count': 1, 'crs': CRS.from_epsg(32630), 'transform': Affine(10.0, 0.0, 600000.0,\n",
       "       0.0, -10.0, 5700000.0), 'blockxsize': 64, 'blockysize': 64, 'tiled': True, 'compress': 'deflate', 'interleave': 'band', 'scale': 1.0, 'offset': 0.0}"
      ]
     },
     "execution_count": 21,
     "metadata": {},
     "output_type": "execute_result"
    }
   ],
   "source": [
    "raster = Raster(df['raster_path'].values[0])\n",
    "raster.profile\n"
   ]
  },
  {
   "cell_type": "code",
   "execution_count": 9,
   "id": "d16f3588-6152-4376-89d7-076466984a62",
   "metadata": {},
   "outputs": [
    {
     "data": {
      "text/plain": [
       "{'driver': 'GTiff', 'dtype': 'uint16', 'nodata': 0.0, 'width': 10980, 'height': 10980, 'count': 1, 'crs': CRS.from_epsg(32630), 'transform': Affine(10.0, 0.0, 600000.0,\n",
       "       0.0, -10.0, 5700000.0), 'blockxsize': 64, 'blockysize': 64, 'tiled': True, 'compress': 'deflate', 'interleave': 'band', 'scale': 1.0, 'offset': 0.0}"
      ]
     },
     "execution_count": 9,
     "metadata": {},
     "output_type": "execute_result"
    }
   ],
   "source": [
    "raster = Raster(df['raster_path'].values[0])\n",
    "raster.profile\n"
   ]
  },
  {
   "cell_type": "code",
   "execution_count": 10,
   "id": "b3c5f47a-5028-48c4-9a08-fc31bc76a0a5",
   "metadata": {},
   "outputs": [
    {
     "data": {
      "text/plain": [
       "array([[[0, 0, 0, ..., 0, 0, 0],\n",
       "        [0, 0, 0, ..., 0, 0, 0],\n",
       "        [0, 0, 0, ..., 0, 0, 0],\n",
       "        ...,\n",
       "        [0, 0, 0, ..., 0, 0, 0],\n",
       "        [0, 0, 0, ..., 0, 0, 0],\n",
       "        [0, 0, 0, ..., 0, 0, 0]]], dtype=uint16)"
      ]
     },
     "execution_count": 10,
     "metadata": {},
     "output_type": "execute_result"
    }
   ],
   "source": [
    "raster.array"
   ]
  },
  {
   "cell_type": "code",
   "execution_count": 11,
   "id": "42688dea-d48a-4952-9601-83d550e0b29f",
   "metadata": {},
   "outputs": [
    {
     "data": {
      "image/png": "[encoded data removed]",
      "text/plain": [
       "<Figure size 432x288 with 1 Axes>"
      ]
     },
     "metadata": {
      "needs_background": "light"
     },
     "output_type": "display_data"
    },
    {
     "data": {
      "text/plain": [
       "<matplotlib.axes._subplots.AxesSubplot at 0x7fa2ce5d0d60>"
      ]
     },
     "execution_count": 11,
     "metadata": {},
     "output_type": "execute_result"
    }
   ],
   "source": [
    "raster.plot()"
   ]
  },
  {
   "cell_type": "code",
   "execution_count": null,
   "id": "85a24706-e4de-41f1-acae-38fd6d640bff",
   "metadata": {},
   "outputs": [],
   "source": []
  }
 ],
 "metadata": {
  "kernelspec": {
   "display_name": "Python 3 (ipykernel)",
   "language": "python",
   "name": "python3"
  },
  "language_info": {
   "codemirror_mode": {
    "name": "ipython",
    "version": 3
   },
   "file_extension": ".py",
   "mimetype": "text/x-python",
   "name": "python",
   "nbconvert_exporter": "python",
   "pygments_lexer": "ipython3",
   "version": "3.8.3"
  }
 },
 "nbformat": 4,
 "nbformat_minor": 5
}
