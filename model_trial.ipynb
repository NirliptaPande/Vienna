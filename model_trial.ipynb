{
 "cells": [
  {
   "cell_type": "code",
   "execution_count": 1,
   "id": "9dd09a94-d41d-43ab-8cc6-c37bd56e458b",
   "metadata": {},
   "outputs": [],
   "source": [
    "import numpy as np\n",
    "from multiprocessing import Pool\n",
    "#return fcn.Classifier_FCN(output_directory, input_shape, nb_classes, True)\n",
    "#lets do this where you feed in just the first time period, B02..B12\n",
    "def prep_data(band):\n",
    "    arr = np.load('./namelist/b%s.npy'%band)\n",
    "    arr = np.swapaxes(arr,0,2)\n",
    "    arr = np.reshape(arr,(-1,1))\n",
    "    return arr"
   ]
  },
  {
   "cell_type": "code",
   "execution_count": 2,
   "id": "2ab07abe-e5c1-4336-853a-4691de2128f6",
   "metadata": {},
   "outputs": [],
   "source": [
    "if __name__ == \"__main__\":   \n",
    "    x_train = np.zeros([9, 653*50*80])\n",
    "    with Pool() as pool:\n",
    "        x_train = pool.map(prep_data,['02','03','04','05','06','07','08','11','12'])\n",
    "    pool.close()\n",
    "    pool.join()\n",
    "    x_train = np.asarray(x_train)\n",
    "    x_train = np.swapaxes(x_train,0,1)"
   ]
  },
  {
   "cell_type": "code",
   "execution_count": 3,
   "id": "5ccf9a34-28fa-4ad4-b1c1-60bd092fb53f",
   "metadata": {},
   "outputs": [
    {
     "data": {
      "text/plain": [
       "(2612000, 9, 1)"
      ]
     },
     "execution_count": 3,
     "metadata": {},
     "output_type": "execute_result"
    }
   ],
   "source": [
    "x_train.shape"
   ]
  },
  {
   "cell_type": "code",
   "execution_count": 4,
   "id": "9e968203-fab4-49b5-9982-ed4d834fcc80",
   "metadata": {
    "tags": []
   },
   "outputs": [
    {
     "data": {
      "text/plain": [
       "(2611999, 1)"
      ]
     },
     "execution_count": 4,
     "metadata": {},
     "output_type": "execute_result"
    }
   ],
   "source": [
    "y_train = x_train[1:]\n",
    "y_train = y_train[:,6,:]#takes out band 8\n",
    "y_train.shape"
   ]
  },
  {
   "cell_type": "code",
   "execution_count": 5,
   "id": "98655ce9-159a-4904-b270-e3b07b16864e",
   "metadata": {},
   "outputs": [
    {
     "data": {
      "text/plain": [
       "(2612000, 9, 1)"
      ]
     },
     "execution_count": 5,
     "metadata": {},
     "output_type": "execute_result"
    }
   ],
   "source": [
    "indices = [i-1 for i in range(653,x_train.shape[0],653)]#change for time step\n",
    "x_train.shape"
   ]
  },
  {
   "cell_type": "code",
   "execution_count": 6,
   "id": "c7664fe3-3ae6-4f62-888e-e219e9c72602",
   "metadata": {},
   "outputs": [
    {
     "data": {
      "text/plain": [
       "(2608001, 9, 1)"
      ]
     },
     "execution_count": 6,
     "metadata": {},
     "output_type": "execute_result"
    }
   ],
   "source": [
    "x_train = np.delete(x_train,indices,axis = 0)\n",
    "x_train.shape"
   ]
  },
  {
   "cell_type": "code",
   "execution_count": 7,
   "id": "f933f004-5e8e-4cc0-a774-75e136318d11",
   "metadata": {},
   "outputs": [
    {
     "data": {
      "text/plain": [
       "(2608000, 1)"
      ]
     },
     "execution_count": 7,
     "metadata": {},
     "output_type": "execute_result"
    }
   ],
   "source": [
    "y_train = np.delete(y_train,indices,axis = 0)\n",
    "y_train.shape"
   ]
  },
  {
   "cell_type": "code",
   "execution_count": 8,
   "id": "4e3b9763-ebd2-48dd-9c53-609f6cb6e18f",
   "metadata": {},
   "outputs": [
    {
     "data": {
      "text/plain": [
       "(4000, 1)"
      ]
     },
     "execution_count": 8,
     "metadata": {},
     "output_type": "execute_result"
    }
   ],
   "source": [
    "indices_test = [i-1 for i in range(652,x_train.shape[0],652)]\n",
    "y_test = y_train[indices_test]\n",
    "y_test.shape"
   ]
  },
  {
   "cell_type": "code",
   "execution_count": 9,
   "id": "89a3463b-0fb8-4922-910f-bfdc1d70a3ce",
   "metadata": {},
   "outputs": [
    {
     "data": {
      "text/plain": [
       "(4000, 9, 1)"
      ]
     },
     "execution_count": 9,
     "metadata": {},
     "output_type": "execute_result"
    }
   ],
   "source": [
    "x_test = x_train[indices_test]\n",
    "x_test.shape"
   ]
  },
  {
   "cell_type": "code",
   "execution_count": 10,
   "id": "7854f296-f81a-4fd7-85a3-56f5986021af",
   "metadata": {},
   "outputs": [],
   "source": [
    "x_train = np.delete(x_train,indices_test,axis = 0)"
   ]
  },
  {
   "cell_type": "code",
   "execution_count": 11,
   "id": "607bfa5f-e4e7-4578-a110-01f36fc72d3a",
   "metadata": {},
   "outputs": [
    {
     "data": {
      "text/plain": [
       "(2604001, 9, 1)"
      ]
     },
     "execution_count": 11,
     "metadata": {},
     "output_type": "execute_result"
    }
   ],
   "source": [
    "x_train.shape"
   ]
  },
  {
   "cell_type": "code",
   "execution_count": 12,
   "id": "24834b63-edda-4997-a69b-4c342a816bd4",
   "metadata": {},
   "outputs": [
    {
     "data": {
      "text/plain": [
       "(2604001, 1)"
      ]
     },
     "execution_count": 12,
     "metadata": {},
     "output_type": "execute_result"
    }
   ],
   "source": [
    "y_train = np.delete(y_train,[i for i in indices_test if i != max(indices_test)],axis = 0)\n",
    "y_train.shape"
   ]
  },
  {
   "cell_type": "code",
   "execution_count": 18,
   "id": "beca7128-6c1a-45b7-9ca4-e08f8d01d432",
   "metadata": {},
   "outputs": [
    {
     "data": {
      "text/plain": [
       "(2604001,)"
      ]
     },
     "execution_count": 18,
     "metadata": {},
     "output_type": "execute_result"
    }
   ],
   "source": [
    "c_train = [i for i in y_train==0]\n",
    "c_train = np.asarray(c_train)\n",
    "c_train = c_train.reshape([-1])\n",
    "c_train.shape"
   ]
  },
  {
   "cell_type": "code",
   "execution_count": 19,
   "id": "f38f8dd2-17bb-419f-b7e0-8abaf10d2e46",
   "metadata": {},
   "outputs": [
    {
     "data": {
      "text/plain": [
       "(486830, 1)"
      ]
     },
     "execution_count": 19,
     "metadata": {},
     "output_type": "execute_result"
    }
   ],
   "source": [
    "y_train = np.delete(y_train,c_train,axis = 0)\n",
    "y_train.shape"
   ]
  },
  {
   "cell_type": "code",
   "execution_count": 16,
   "id": "d507f4b0-e552-47d1-8f22-b84f6081ac2b",
   "metadata": {},
   "outputs": [
    {
     "data": {
      "text/plain": [
       "(486830, 1)"
      ]
     },
     "execution_count": 16,
     "metadata": {},
     "output_type": "execute_result"
    }
   ],
   "source": [
    "y_train = y_train.reshape(-1,1)\n",
    "y_train.shape"
   ]
  },
  {
   "cell_type": "code",
   "execution_count": 18,
   "id": "2dbdec9b-4feb-4b88-8bc0-cc656e85fc81",
   "metadata": {},
   "outputs": [
    {
     "ename": "IndexError",
     "evalue": "boolean index did not match indexed array along dimension 1; dimension is 9 but corresponding boolean dimension is 1",
     "output_type": "error",
     "traceback": [
      "\u001b[0;31m---------------------------------------------------------------------------\u001b[0m",
      "\u001b[0;31mIndexError\u001b[0m                                Traceback (most recent call last)",
      "Input \u001b[0;32mIn [18]\u001b[0m, in \u001b[0;36m<cell line: 1>\u001b[0;34m()\u001b[0m\n\u001b[0;32m----> 1\u001b[0m x \u001b[38;5;241m=\u001b[39m \u001b[43mx_train\u001b[49m\u001b[43m[\u001b[49m\u001b[43m:\u001b[49m\u001b[43m]\u001b[49m\u001b[43m[\u001b[49m\u001b[43mc_train\u001b[49m\u001b[43m]\u001b[49m\n",
      "\u001b[0;31mIndexError\u001b[0m: boolean index did not match indexed array along dimension 1; dimension is 9 but corresponding boolean dimension is 1"
     ]
    }
   ],
   "source": [
    "x = x_train[:][c_train]"
   ]
  },
  {
   "cell_type": "code",
   "execution_count": null,
   "id": "41455a0d-d27d-49e9-b1dc-c1368f034b5e",
   "metadata": {},
   "outputs": [],
   "source": []
  },
  {
   "cell_type": "code",
   "execution_count": null,
   "id": "419eb629-48fe-4295-ab23-1d78a304f3f8",
   "metadata": {},
   "outputs": [],
   "source": []
  },
  {
   "cell_type": "code",
   "execution_count": 18,
   "id": "33890a1c-9c0b-4315-8f25-b671e2cf7264",
   "metadata": {},
   "outputs": [],
   "source": [
    "import numpy as np\n",
    "arr = np.random.rand(30)"
   ]
  },
  {
   "cell_type": "code",
   "execution_count": 19,
   "id": "94aa1fb3-d356-4644-8c31-4c19b4ead9cd",
   "metadata": {},
   "outputs": [],
   "source": [
    "arr = arr.reshape([6,5,1])"
   ]
  },
  {
   "cell_type": "code",
   "execution_count": 20,
   "id": "ba9ded8f-7e25-4564-b072-bdcbc4f89f05",
   "metadata": {},
   "outputs": [
    {
     "data": {
      "text/plain": [
       "(6, 5, 1)"
      ]
     },
     "execution_count": 20,
     "metadata": {},
     "output_type": "execute_result"
    }
   ],
   "source": [
    "arr.shape"
   ]
  },
  {
   "cell_type": "code",
   "execution_count": 21,
   "id": "8b11afa6-bf0f-4879-a4c4-b2a8b6c00ce6",
   "metadata": {},
   "outputs": [],
   "source": [
    "arr = arr[:,3,:]"
   ]
  },
  {
   "cell_type": "code",
   "execution_count": 22,
   "id": "6c4550ef-7e60-402f-b3be-68b6429b3dc0",
   "metadata": {},
   "outputs": [
    {
     "data": {
      "text/plain": [
       "(6, 1)"
      ]
     },
     "execution_count": 22,
     "metadata": {},
     "output_type": "execute_result"
    }
   ],
   "source": [
    "arr.shape"
   ]
  },
  {
   "cell_type": "code",
   "execution_count": null,
   "id": "698664f5-2e29-4089-b642-a3e24965c01f",
   "metadata": {},
   "outputs": [],
   "source": []
  },
  {
   "cell_type": "code",
   "execution_count": null,
   "id": "202492ea-328b-4fab-b986-03042147b9d9",
   "metadata": {},
   "outputs": [],
   "source": []
  },
  {
   "cell_type": "code",
   "execution_count": 3,
   "id": "6bdcc7b8-f95f-49c4-8ad8-53dfbe0f56b3",
   "metadata": {},
   "outputs": [
    {
     "data": {
      "text/plain": [
       "(2612000, 9, 1)"
      ]
     },
     "execution_count": 3,
     "metadata": {},
     "output_type": "execute_result"
    }
   ],
   "source": [
    "x_test.shape"
   ]
  },
  {
   "cell_type": "code",
   "execution_count": 5,
   "id": "58ebd161-b503-48c5-ae52-9cdd5aa5416f",
   "metadata": {},
   "outputs": [],
   "source": [
    "y_test = x_test[1:]\n",
    "indices = [i-1 for i in range(653,x_test.shape[0],653)]"
   ]
  },
  {
   "cell_type": "code",
   "execution_count": 6,
   "id": "8b411dda-ccbf-44a1-ab8a-45c0a82c7fd8",
   "metadata": {},
   "outputs": [],
   "source": [
    "x_test = np.delete(x_test,indices,axis = 0)"
   ]
  },
  {
   "cell_type": "code",
   "execution_count": 7,
   "id": "ecb623fe-e8ec-4db4-8398-6849d4693141",
   "metadata": {},
   "outputs": [],
   "source": [
    "y_test = np.delete(y_test,indices,axis = 0)"
   ]
  },
  {
   "cell_type": "code",
   "execution_count": 8,
   "id": "2ae6481e-c96e-4d1b-af53-4f2459a8605a",
   "metadata": {},
   "outputs": [
    {
     "data": {
      "text/plain": [
       "(2608001, 9, 1)"
      ]
     },
     "execution_count": 8,
     "metadata": {},
     "output_type": "execute_result"
    }
   ],
   "source": [
    "x_test.shape"
   ]
  },
  {
   "cell_type": "code",
   "execution_count": 9,
   "id": "f733421c-f295-40a9-b722-33915644a5cc",
   "metadata": {},
   "outputs": [
    {
     "data": {
      "text/plain": [
       "(2608000, 9, 1)"
      ]
     },
     "execution_count": 9,
     "metadata": {},
     "output_type": "execute_result"
    }
   ],
   "source": [
    "y_test.shape"
   ]
  },
  {
   "cell_type": "code",
   "execution_count": null,
   "id": "9c499404-8cc0-42b5-a3cc-2e0b3a631253",
   "metadata": {},
   "outputs": [],
   "source": [
    "y_test = y_test[:][6]"
   ]
  },
  {
   "cell_type": "code",
   "execution_count": null,
   "id": "d6f4cb2c-caee-467c-8b6b-6e584d991b82",
   "metadata": {},
   "outputs": [],
   "source": []
  },
  {
   "cell_type": "code",
   "execution_count": 31,
   "id": "953be65f-cd63-4b4c-9d4d-9dbd722511fa",
   "metadata": {},
   "outputs": [
    {
     "data": {
      "text/plain": [
       "(2608000, 9, 1)"
      ]
     },
     "execution_count": 31,
     "metadata": {},
     "output_type": "execute_result"
    }
   ],
   "source": [
    "y_test = x_test[50*80:]\n",
    "y_test.shape"
   ]
  },
  {
   "cell_type": "code",
   "execution_count": 32,
   "id": "286d0e66-e7ca-4d82-8f96-f0b3ed5de72f",
   "metadata": {},
   "outputs": [
    {
     "data": {
      "text/plain": [
       "(2604000, 9, 1)"
      ]
     },
     "execution_count": 32,
     "metadata": {},
     "output_type": "execute_result"
    }
   ],
   "source": [
    "y_train = y_test[:50*80*651]\n",
    "y_train.shape"
   ]
  },
  {
   "cell_type": "code",
   "execution_count": 33,
   "id": "23c6030d-7b14-45a0-88cb-5d6b0e5b6239",
   "metadata": {},
   "outputs": [
    {
     "data": {
      "text/plain": [
       "(4000, 9, 1)"
      ]
     },
     "execution_count": 33,
     "metadata": {},
     "output_type": "execute_result"
    }
   ],
   "source": [
    "y_test = y_test[50*80*651:]\n",
    "y_test.shape"
   ]
  },
  {
   "cell_type": "code",
   "execution_count": 34,
   "id": "962f0588-b332-4e9a-9cbb-68b025a4597f",
   "metadata": {},
   "outputs": [
    {
     "data": {
      "text/plain": [
       "(2604000, 9, 1)"
      ]
     },
     "execution_count": 34,
     "metadata": {},
     "output_type": "execute_result"
    }
   ],
   "source": [
    "x_train = x_test[:50*80*651]\n",
    "x_train.shape"
   ]
  },
  {
   "cell_type": "code",
   "execution_count": 37,
   "id": "6ae19c61-7844-45ed-8de0-78c7f051e94f",
   "metadata": {},
   "outputs": [
    {
     "data": {
      "text/plain": [
       "(8000, 9, 1)"
      ]
     },
     "execution_count": 37,
     "metadata": {},
     "output_type": "execute_result"
    }
   ],
   "source": [
    "x_test = x_test[50*80*651:]\n",
    "x_test.shape"
   ]
  },
  {
   "cell_type": "code",
   "execution_count": 36,
   "id": "7baf2b18-5cec-44f1-89f9-a4c8a00b5367",
   "metadata": {},
   "outputs": [
    {
     "data": {
      "text/plain": [
       "(4000, 9, 1)"
      ]
     },
     "execution_count": 36,
     "metadata": {},
     "output_type": "execute_result"
    }
   ],
   "source": [
    "x_new = x_new[:50*80]\n",
    "x_new.shape"
   ]
  },
  {
   "cell_type": "code",
   "execution_count": 12,
   "id": "8abdda04-bbcd-4639-a10b-d018d56834e9",
   "metadata": {},
   "outputs": [],
   "source": [
    "y_test = x_test[50*80:]\n",
    "y_train = y_test[:50*80*651]\n",
    "y_test = y_test[50*80*651:]\n",
    "#y_true = y_test\n",
    "x_train = x_test[:50*80*651]\n",
    "x_test = np.reshape(x_test,(-1,9))\n",
    "x_test = x_test[50*80*651:]\n",
    "x_train = x_train[:50*80]\n",
    "x_train = np.asarray(x_train)\n",
    "x_train = np.reshape(x_train,(-1,9))"
   ]
  },
  {
   "cell_type": "code",
   "execution_count": 13,
   "id": "f7ea1ebc-646e-4044-bb0d-a2f8fe65f56b",
   "metadata": {},
   "outputs": [
    {
     "data": {
      "text/plain": [
       "(2612000, 9)"
      ]
     },
     "execution_count": 13,
     "metadata": {},
     "output_type": "execute_result"
    }
   ],
   "source": [
    "x_train.shape"
   ]
  },
  {
   "cell_type": "code",
   "execution_count": 14,
   "id": "6a29d445-6019-452e-8d94-9b463268cc58",
   "metadata": {},
   "outputs": [
    {
     "data": {
      "text/plain": [
       "(0, 1)"
      ]
     },
     "execution_count": 14,
     "metadata": {},
     "output_type": "execute_result"
    }
   ],
   "source": [
    "y_train.shape"
   ]
  },
  {
   "cell_type": "code",
   "execution_count": null,
   "id": "5c3adbbd-a63a-433d-b875-67adc5f93f23",
   "metadata": {},
   "outputs": [],
   "source": []
  }
 ],
 "metadata": {
  "kernelspec": {
   "display_name": "Python 3 (ipykernel)",
   "language": "python",
   "name": "python3"
  },
  "language_info": {
   "codemirror_mode": {
    "name": "ipython",
    "version": 3
   },
   "file_extension": ".py",
   "mimetype": "text/x-python",
   "name": "python",
   "nbconvert_exporter": "python",
   "pygments_lexer": "ipython3",
   "version": "3.8.3"
  }
 },
 "nbformat": 4,
 "nbformat_minor": 5
}
