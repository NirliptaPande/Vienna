{
 "cells": [
  {
   "cell_type": "code",
   "execution_count": 1,
   "id": "9dd09a94-d41d-43ab-8cc6-c37bd56e458b",
   "metadata": {},
   "outputs": [],
   "source": [
    "import numpy as np\n",
    "from multiprocessing import Pool\n",
    "#return fcn.Classifier_FCN(output_directory, input_shape, nb_classes, True)\n",
    "#lets do this where you feed in just the first time period, B02..B12\n",
    "def prep_data(band):\n",
    "    arr = np.load('./namelist/b%s.npy'%band)\n",
    "    arr = np.swapaxes(arr,0,2)\n",
    "    arr = np.reshape(arr,(-1,1))\n",
    "    #Z-normalizing\n",
    "    x_bar = np.mean(arr)\n",
    "    x_del = np.std(arr)\n",
    "    arr = (arr-x_bar)/x_del\n",
    "    return arr"
   ]
  },
  {
   "cell_type": "code",
   "execution_count": 2,
   "id": "2ab07abe-e5c1-4336-853a-4691de2128f6",
   "metadata": {},
   "outputs": [],
   "source": [
    "if __name__ == \"__main__\":\n",
    "    #start_date = pd.to_datetime('2019-01-01')\n",
    "    #end_date = pd.to_datetime('2020-01-01')\n",
    "    x_test = np.zeros([9, 653*50*80])\n",
    "    with Pool() as pool:\n",
    "        x_test = pool.map(prep_data,['02','03','04','05','06','07','08','11','12'])\n",
    "    pool.close()\n",
    "    pool.join()\n",
    "    x_test = np.asarray(x_test)\n",
    "    x_test = np.swapaxes(x_test,0,1)\n",
    "    # y_test = x_test[50*80:]\n",
    "    # y_train = y_test[:50*80*651]\n",
    "    # y_test = y_test[50*80*651:]\n",
    "    # x_train = x_test[:50*80*651]\n",
    "    # x_test = x_test[50*80*651:]\n",
    "    # x_test = x_test[:50*80]"
   ]
  },
  {
   "cell_type": "code",
   "execution_count": 3,
   "id": "6bdcc7b8-f95f-49c4-8ad8-53dfbe0f56b3",
   "metadata": {},
   "outputs": [
    {
     "data": {
      "text/plain": [
       "(2612000, 9, 1)"
      ]
     },
     "execution_count": 3,
     "metadata": {},
     "output_type": "execute_result"
    }
   ],
   "source": [
    "x_test.shape"
   ]
  },
  {
   "cell_type": "code",
   "execution_count": 5,
   "id": "58ebd161-b503-48c5-ae52-9cdd5aa5416f",
   "metadata": {},
   "outputs": [],
   "source": [
    "y_test = x_test[1:]\n",
    "indices = [i-1 for i in range(653,x_test.shape[0],653)]"
   ]
  },
  {
   "cell_type": "code",
   "execution_count": 6,
   "id": "8b411dda-ccbf-44a1-ab8a-45c0a82c7fd8",
   "metadata": {},
   "outputs": [],
   "source": [
    "x_test = np.delete(x_test,indices,axis = 0)"
   ]
  },
  {
   "cell_type": "code",
   "execution_count": 7,
   "id": "ecb623fe-e8ec-4db4-8398-6849d4693141",
   "metadata": {},
   "outputs": [],
   "source": [
    "y_test = np.delete(y_test,indices,axis = 0)"
   ]
  },
  {
   "cell_type": "code",
   "execution_count": 8,
   "id": "2ae6481e-c96e-4d1b-af53-4f2459a8605a",
   "metadata": {},
   "outputs": [
    {
     "data": {
      "text/plain": [
       "(2608001, 9, 1)"
      ]
     },
     "execution_count": 8,
     "metadata": {},
     "output_type": "execute_result"
    }
   ],
   "source": [
    "x_test.shape"
   ]
  },
  {
   "cell_type": "code",
   "execution_count": 9,
   "id": "f733421c-f295-40a9-b722-33915644a5cc",
   "metadata": {},
   "outputs": [
    {
     "data": {
      "text/plain": [
       "(2608000, 9, 1)"
      ]
     },
     "execution_count": 9,
     "metadata": {},
     "output_type": "execute_result"
    }
   ],
   "source": [
    "y_test.shape"
   ]
  },
  {
   "cell_type": "code",
   "execution_count": null,
   "id": "9c499404-8cc0-42b5-a3cc-2e0b3a631253",
   "metadata": {},
   "outputs": [],
   "source": [
    "y_test = y_test[:][6]"
   ]
  },
  {
   "cell_type": "code",
   "execution_count": null,
   "id": "d6f4cb2c-caee-467c-8b6b-6e584d991b82",
   "metadata": {},
   "outputs": [],
   "source": []
  },
  {
   "cell_type": "code",
   "execution_count": 31,
   "id": "953be65f-cd63-4b4c-9d4d-9dbd722511fa",
   "metadata": {},
   "outputs": [
    {
     "data": {
      "text/plain": [
       "(2608000, 9, 1)"
      ]
     },
     "execution_count": 31,
     "metadata": {},
     "output_type": "execute_result"
    }
   ],
   "source": [
    "y_test = x_test[50*80:]\n",
    "y_test.shape"
   ]
  },
  {
   "cell_type": "code",
   "execution_count": 32,
   "id": "286d0e66-e7ca-4d82-8f96-f0b3ed5de72f",
   "metadata": {},
   "outputs": [
    {
     "data": {
      "text/plain": [
       "(2604000, 9, 1)"
      ]
     },
     "execution_count": 32,
     "metadata": {},
     "output_type": "execute_result"
    }
   ],
   "source": [
    "y_train = y_test[:50*80*651]\n",
    "y_train.shape"
   ]
  },
  {
   "cell_type": "code",
   "execution_count": 33,
   "id": "23c6030d-7b14-45a0-88cb-5d6b0e5b6239",
   "metadata": {},
   "outputs": [
    {
     "data": {
      "text/plain": [
       "(4000, 9, 1)"
      ]
     },
     "execution_count": 33,
     "metadata": {},
     "output_type": "execute_result"
    }
   ],
   "source": [
    "y_test = y_test[50*80*651:]\n",
    "y_test.shape"
   ]
  },
  {
   "cell_type": "code",
   "execution_count": 34,
   "id": "962f0588-b332-4e9a-9cbb-68b025a4597f",
   "metadata": {},
   "outputs": [
    {
     "data": {
      "text/plain": [
       "(2604000, 9, 1)"
      ]
     },
     "execution_count": 34,
     "metadata": {},
     "output_type": "execute_result"
    }
   ],
   "source": [
    "x_train = x_test[:50*80*651]\n",
    "x_train.shape"
   ]
  },
  {
   "cell_type": "code",
   "execution_count": 37,
   "id": "6ae19c61-7844-45ed-8de0-78c7f051e94f",
   "metadata": {},
   "outputs": [
    {
     "data": {
      "text/plain": [
       "(8000, 9, 1)"
      ]
     },
     "execution_count": 37,
     "metadata": {},
     "output_type": "execute_result"
    }
   ],
   "source": [
    "x_test = x_test[50*80*651:]\n",
    "x_test.shape"
   ]
  },
  {
   "cell_type": "code",
   "execution_count": 36,
   "id": "7baf2b18-5cec-44f1-89f9-a4c8a00b5367",
   "metadata": {},
   "outputs": [
    {
     "data": {
      "text/plain": [
       "(4000, 9, 1)"
      ]
     },
     "execution_count": 36,
     "metadata": {},
     "output_type": "execute_result"
    }
   ],
   "source": [
    "x_new = x_new[:50*80]\n",
    "x_new.shape"
   ]
  },
  {
   "cell_type": "code",
   "execution_count": 12,
   "id": "8abdda04-bbcd-4639-a10b-d018d56834e9",
   "metadata": {},
   "outputs": [],
   "source": [
    "y_test = x_test[50*80:]\n",
    "y_train = y_test[:50*80*651]\n",
    "y_test = y_test[50*80*651:]\n",
    "#y_true = y_test\n",
    "x_train = x_test[:50*80*651]\n",
    "x_test = np.reshape(x_test,(-1,9))\n",
    "x_test = x_test[50*80*651:]\n",
    "x_train = x_train[:50*80]\n",
    "x_train = np.asarray(x_train)\n",
    "x_train = np.reshape(x_train,(-1,9))"
   ]
  },
  {
   "cell_type": "code",
   "execution_count": 13,
   "id": "f7ea1ebc-646e-4044-bb0d-a2f8fe65f56b",
   "metadata": {},
   "outputs": [
    {
     "data": {
      "text/plain": [
       "(2612000, 9)"
      ]
     },
     "execution_count": 13,
     "metadata": {},
     "output_type": "execute_result"
    }
   ],
   "source": [
    "x_train.shape"
   ]
  },
  {
   "cell_type": "code",
   "execution_count": 14,
   "id": "6a29d445-6019-452e-8d94-9b463268cc58",
   "metadata": {},
   "outputs": [
    {
     "data": {
      "text/plain": [
       "(0, 1)"
      ]
     },
     "execution_count": 14,
     "metadata": {},
     "output_type": "execute_result"
    }
   ],
   "source": [
    "y_train.shape"
   ]
  },
  {
   "cell_type": "code",
   "execution_count": null,
   "id": "5c3adbbd-a63a-433d-b875-67adc5f93f23",
   "metadata": {},
   "outputs": [],
   "source": []
  }
 ],
 "metadata": {
  "kernelspec": {
   "display_name": "Python 3 (ipykernel)",
   "language": "python",
   "name": "python3"
  },
  "language_info": {
   "codemirror_mode": {
    "name": "ipython",
    "version": 3
   },
   "file_extension": ".py",
   "mimetype": "text/x-python",
   "name": "python",
   "nbconvert_exporter": "python",
   "pygments_lexer": "ipython3",
   "version": "3.8.3"
  }
 },
 "nbformat": 4,
 "nbformat_minor": 5
}
