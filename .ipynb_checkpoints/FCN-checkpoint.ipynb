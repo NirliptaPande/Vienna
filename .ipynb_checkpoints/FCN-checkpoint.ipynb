{
 "cells": [
  {
   "cell_type": "code",
   "execution_count": 1,
   "id": "0f882696-f0ef-45b5-b11a-b0d5d0b2e0d2",
   "metadata": {},
   "outputs": [],
   "source": [
    "#Prepare data, \n",
    "#use median, 3x3 to smooth out the data, spatially\n",
    "#seperate it into data streams,\n",
    "#data should look like, for pixel x,y: Band1 Band2..... \n",
    "#Don't use S1 as temporal difference\n",
    "#drop NA\n",
    "#Use month as dummy? or use the scheme I explained \n",
    "#Jan 2\n",
    "#Feb 2\n",
    "#Mar 3\n",
    "#Apr 4\n",
    "#May 5\n",
    "#Jun 6\n",
    "#Jul 7\n",
    "#Sep 6\n",
    "#Oct 5\n",
    "#Nov 4\n",
    "#Dec 3\n",
    "#Do this in a seperate notebook\n",
    "#Import the data here\n",
    "#The data is smoothened using median and zeros are removed"
   ]
  },
  {
   "cell_type": "code",
   "execution_count": null,
   "id": "ecd7e07c-191c-43d4-b455-e90f7675c428",
   "metadata": {},
   "outputs": [],
   "source": [
    "#The data is 80x50 and over a time period (200 sth values). \n",
    "#Choose one point from the 80X50 grid.\n",
    "#Convert that to Pandas\n",
    "#Combine one bands with the rest, in an AND\n",
    "#this gives us the data"
   ]
  }
 ],
 "metadata": {
  "kernelspec": {
   "display_name": "Python 3 (ipykernel)",
   "language": "python",
   "name": "python3"
  },
  "language_info": {
   "codemirror_mode": {
    "name": "ipython",
    "version": 3
   },
   "file_extension": ".py",
   "mimetype": "text/x-python",
   "name": "python",
   "nbconvert_exporter": "python",
   "pygments_lexer": "ipython3",
   "version": "3.8.3"
  }
 },
 "nbformat": 4,
 "nbformat_minor": 5
}
