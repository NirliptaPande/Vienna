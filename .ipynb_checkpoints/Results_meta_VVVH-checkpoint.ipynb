{
 "cells": [
  {
   "cell_type": "code",
   "execution_count": 1,
   "id": "42d33f96-7f1a-42c9-a228-4fa7cf362b83",
   "metadata": {},
   "outputs": [],
   "source": [
    "from mantle_utils.alg.raster import Raster\n",
    "from rasterio.windows import Window\n",
    "import numpy as np\n",
    "import pandas as pd\n",
    "from mantle_utils.workflow.enqueue import get_raster_stack_paths_and_metadata\n",
    "from mantle_utils.workflow.process import sanitize_raster_stack_paths_and_metadata"
   ]
  },
  {
   "cell_type": "code",
   "execution_count": null,
   "id": "a8356338-3736-4acf-9dd4-0dce682eb34a",
   "metadata": {},
   "outputs": [],
   "source": [
    "stack_raster_paths, stack_metadata = \\\n",
    "    get_raster_stack_paths_and_metadata(\n",
    "        env_name='production',\n",
    "        stacking_source_run_name='nirlipta_30UXB_stack',\n",
    "        tile_idx='30UXB',\n",
    "        raise_on_inconsistent_stack=False)\n",
    "   \n",
    "stack_df = sanitize_raster_stack_paths_and_metadata(\n",
    "    raster_paths=stack_raster_paths,\n",
    "    stack_metadata=stack_metadata,\n",
    "    sanitize_paths=False)\n",
    "target = stack_df[np.logical_and(source_artefact_name = 'VVVH',stack_df['start_datetime'] >= np.datetime64('2019-01-05'))]\n",
    "target = target.iloc[0].\n",
    "window = Window(col_off=100, row_off=200, width=80, height=50)\n",
    "target = Raster((target[raster_path].values[0]), window=window)\n",
    "target = pd.Dataframe(target)#target converted to dataframe,output mini raster"
   ]
  }
 ],
 "metadata": {
  "kernelspec": {
   "display_name": "Python 3 (ipykernel)",
   "language": "python",
   "name": "python3"
  },
  "language_info": {
   "codemirror_mode": {
    "name": "ipython",
    "version": 3
   },
   "file_extension": ".py",
   "mimetype": "text/x-python",
   "name": "python",
   "nbconvert_exporter": "python",
   "pygments_lexer": "ipython3",
   "version": "3.8.3"
  }
 },
 "nbformat": 4,
 "nbformat_minor": 5
}
