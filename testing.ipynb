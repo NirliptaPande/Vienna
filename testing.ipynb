{
 "cells": [
  {
   "cell_type": "code",
   "execution_count": 1,
   "id": "6bdc3039-9df5-455b-9d1f-1137532bf9e9",
   "metadata": {},
   "outputs": [
    {
     "name": "stderr",
     "output_type": "stream",
     "text": [
      "/cats/datastore3/anaconda3_envs/adia/lib/python3.8/site-packages/tqdm/auto.py:22: TqdmWarning: IProgress not found. Please update jupyter and ipywidgets. See https://ipywidgets.readthedocs.io/en/stable/user_install.html\n",
      "  from .autonotebook import tqdm as notebook_tqdm\n"
     ]
    }
   ],
   "source": [
    "from mantle_utils.workflow.enqueue import get_raster_stack_paths_and_metadata\n",
    "from mantle_utils.workflow.process import sanitize_raster_stack_paths_and_metadata\n",
    "import pandas as pd\n",
    "from prophet import Prophet\n",
    "from pathlib import Path\n",
    "from mantle_utils.alg.raster import Raster\n",
    "from rasterio.windows import Window\n",
    "import numpy as np\n",
    "from multiprocessing import Pool"
   ]
  },
  {
   "cell_type": "code",
   "execution_count": null,
   "id": "a33c16c5-1de5-43e0-ba69-860bf841a1e6",
   "metadata": {},
   "outputs": [],
   "source": [
    "def compute(idx,ip, sorted_datetimes):#df will not be the input, i,j will be\n",
    "    df = {'ds':sorted_datetimes,'y':ip[:,idx[0],idx[1]]}\n",
    "    df = pd.DataFrame(df)\n",
    "    m = Prophet()\n",
    "    m.fit(df)\n",
    "    future = m.make_future_dataframe(periods=1)\n",
    "    forecast = m.predict(future)\n",
    "    #out[i][j]=\n",
    "    fig1 = m.plot(forecast)\n",
    "    fig2 = m.plot_components(forecast)\n",
    "    fig1.savefig('trend%s%s.svg'%(str(idx[0]),str(idx[1]))\n",
    "    fig2.savefig('comp%s%s.svg'%(str(idx[0]),str(idx[1]))\n",
    "    #np.save('prediction.npy',out)\n",
    "    return [forecast['yhat'].values[0],i,j]"
   ]
  },
  {
   "cell_type": "code",
   "execution_count": null,
   "id": "309689a8-9521-4a87-8d24-94efb95b613e",
   "metadata": {},
   "outputs": [],
   "source": [
    "#3 things need to be done, \n",
    "#0. Save the trends in file, visualize them over time, and see if you need to take the alternate values, but first parallize it else it’ll take a lot of time to do this\n",
    "#1. Parallize a certain date over multiple threads\n",
    "#Will need to convert it into a .py file as multiprocessing\n",
    "#2.Need to do this for all the dates, will need to figure out a way to loop over the dates"
   ]
  },
  {
   "cell_type": "code",
   "execution_count": null,
   "id": "80e00fb8-39dc-479e-be95-56a8a1783e0b",
   "metadata": {},
   "outputs": [],
   "source": [
    "if __name__ == \"__main__\":\n",
    "    stack_raster_paths, stack_metadata = \\\n",
    "    get_raster_stack_paths_and_metadata(\n",
    "        env_name='production',\n",
    "        stacking_source_run_name='nirlipta_30UXB_stack',\n",
    "        tile_idx='30UXB',\n",
    "        raise_on_inconsistent_stack=False)\n",
    "\n",
    "    stack_df = sanitize_raster_stack_paths_and_metadata(\n",
    "    raster_paths=stack_raster_paths,\n",
    "    stack_metadata=stack_metadata,\n",
    "    sanitize_paths=False)\n",
    "    size = [80,50]\n",
    "    window = Window(col_off=100, row_off=200, width=size[0], height=size[1])\n",
    "    #loop through time do it in a continous manner???\n",
    "    stack_df = stack_df[np.logical_and(stack_df['start_datetime'] >= np.datetime64('2019-01-01'), stack_df['start_datetime'] < np.datetime64('2019-04-01'))]\n",
    "    stack_df = stack_df.loc[stack_df['source_artefact_name'] == 'VVVH']\n",
    "    sorted_datetimes = sorted(list(set(\n",
    "    stack_df['start_datetime'].values)))\n",
    "    ip = []\n",
    "    for start_datetime_np in sorted_datetimes:\n",
    "       # print(stack_df.loc[stack_df['start_datetime'] == start_datetime_np]['raster_path'].values)\n",
    "        geotiff_path = stack_df.loc[stack_df['start_datetime'] == start_datetime_np]['raster_path'].values[0]\n",
    "        partial_raster = Raster(geotiff_path, window=window)\n",
    "        temp = partial_raster.array.reshape(size[1],size[0])\n",
    "        ip.append(temp)\n",
    "    #pdb.set_trace()\n",
    "    ip = np.array(ip) \n",
    "    # df is the  final dataset, 1D in this case, with 2 columns, time and Y values\n",
    "    out = np.zeros(size[::-1])\n",
    "    i = range(size[1])\n",
    "    j = range(size[0])\n",
    "    paramlist = list(itertools.product(i,j))\n",
    "    #Generate processes equal to the number of cores\n",
    "    with Pool() as pool:\n",
    "    #Distribute the parameter sets evenly across the cores\n",
    "        res = pool.starmap(compute,zip(paramlist,ip,sorted_datetimes))\n",
    "        for i in range(len(paramlist)):\n",
    "            out[res[i][1]][res[i][2]] = res[i][0]\n",
    "        \n",
    "\n"
   ]
  },
  {
   "cell_type": "code",
   "execution_count": 15,
   "id": "7d504c70-218e-4bd3-9f61-2fec35630113",
   "metadata": {},
   "outputs": [],
   "source": [
    "# def func(a,b):\n",
    "#     add = a+b\n",
    "#     #diff = a-b\n",
    "#     return [add,a,b]"
   ]
  },
  {
   "cell_type": "code",
   "execution_count": 23,
   "id": "ecd3c8fd-ac3e-4f98-b5cd-afc2d5037096",
   "metadata": {},
   "outputs": [
    {
     "ename": "OSError",
     "evalue": "[Errno 12] Cannot allocate memory",
     "output_type": "error",
     "traceback": [
      "\u001b[0;31m---------------------------------------------------------------------------\u001b[0m",
      "\u001b[0;31mOSError\u001b[0m                                   Traceback (most recent call last)",
      "Input \u001b[0;32mIn [23]\u001b[0m, in \u001b[0;36m<cell line: 4>\u001b[0;34m()\u001b[0m\n\u001b[1;32m      7\u001b[0m paramlist \u001b[38;5;241m=\u001b[39m \u001b[38;5;28mlist\u001b[39m(itertools\u001b[38;5;241m.\u001b[39mproduct(i,j))\n\u001b[1;32m      8\u001b[0m out \u001b[38;5;241m=\u001b[39m np\u001b[38;5;241m.\u001b[39mzeros([\u001b[38;5;241m5\u001b[39m,\u001b[38;5;241m4\u001b[39m])\n\u001b[0;32m----> 9\u001b[0m \u001b[38;5;28;01mwith\u001b[39;00m \u001b[43mPool\u001b[49m\u001b[43m(\u001b[49m\u001b[43m)\u001b[49m \u001b[38;5;28;01mas\u001b[39;00m pool:\n\u001b[1;32m     10\u001b[0m \u001b[38;5;66;03m#Distribute the parameter sets evenly across the cores\u001b[39;00m\n\u001b[1;32m     11\u001b[0m     res \u001b[38;5;241m=\u001b[39m pool\u001b[38;5;241m.\u001b[39mstarmap(func,paramlist)\n\u001b[1;32m     12\u001b[0m     res \u001b[38;5;241m=\u001b[39m np\u001b[38;5;241m.\u001b[39marray(res)\n",
      "File \u001b[0;32m/cats/datastore3/anaconda3_envs/adia/lib/python3.8/multiprocessing/context.py:119\u001b[0m, in \u001b[0;36mBaseContext.Pool\u001b[0;34m(self, processes, initializer, initargs, maxtasksperchild)\u001b[0m\n\u001b[1;32m    117\u001b[0m \u001b[38;5;124;03m'''Returns a process pool object'''\u001b[39;00m\n\u001b[1;32m    118\u001b[0m \u001b[38;5;28;01mfrom\u001b[39;00m \u001b[38;5;21;01m.\u001b[39;00m\u001b[38;5;21;01mpool\u001b[39;00m \u001b[38;5;28;01mimport\u001b[39;00m Pool\n\u001b[0;32m--> 119\u001b[0m \u001b[38;5;28;01mreturn\u001b[39;00m \u001b[43mPool\u001b[49m\u001b[43m(\u001b[49m\u001b[43mprocesses\u001b[49m\u001b[43m,\u001b[49m\u001b[43m \u001b[49m\u001b[43minitializer\u001b[49m\u001b[43m,\u001b[49m\u001b[43m \u001b[49m\u001b[43minitargs\u001b[49m\u001b[43m,\u001b[49m\u001b[43m \u001b[49m\u001b[43mmaxtasksperchild\u001b[49m\u001b[43m,\u001b[49m\n\u001b[1;32m    120\u001b[0m \u001b[43m            \u001b[49m\u001b[43mcontext\u001b[49m\u001b[38;5;241;43m=\u001b[39;49m\u001b[38;5;28;43mself\u001b[39;49m\u001b[38;5;241;43m.\u001b[39;49m\u001b[43mget_context\u001b[49m\u001b[43m(\u001b[49m\u001b[43m)\u001b[49m\u001b[43m)\u001b[49m\n",
      "File \u001b[0;32m/cats/datastore3/anaconda3_envs/adia/lib/python3.8/multiprocessing/pool.py:212\u001b[0m, in \u001b[0;36mPool.__init__\u001b[0;34m(self, processes, initializer, initargs, maxtasksperchild, context)\u001b[0m\n\u001b[1;32m    210\u001b[0m \u001b[38;5;28mself\u001b[39m\u001b[38;5;241m.\u001b[39m_processes \u001b[38;5;241m=\u001b[39m processes\n\u001b[1;32m    211\u001b[0m \u001b[38;5;28;01mtry\u001b[39;00m:\n\u001b[0;32m--> 212\u001b[0m     \u001b[38;5;28;43mself\u001b[39;49m\u001b[38;5;241;43m.\u001b[39;49m\u001b[43m_repopulate_pool\u001b[49m\u001b[43m(\u001b[49m\u001b[43m)\u001b[49m\n\u001b[1;32m    213\u001b[0m \u001b[38;5;28;01mexcept\u001b[39;00m \u001b[38;5;167;01mException\u001b[39;00m:\n\u001b[1;32m    214\u001b[0m     \u001b[38;5;28;01mfor\u001b[39;00m p \u001b[38;5;129;01min\u001b[39;00m \u001b[38;5;28mself\u001b[39m\u001b[38;5;241m.\u001b[39m_pool:\n",
      "File \u001b[0;32m/cats/datastore3/anaconda3_envs/adia/lib/python3.8/multiprocessing/pool.py:303\u001b[0m, in \u001b[0;36mPool._repopulate_pool\u001b[0;34m(self)\u001b[0m\n\u001b[1;32m    302\u001b[0m \u001b[38;5;28;01mdef\u001b[39;00m \u001b[38;5;21m_repopulate_pool\u001b[39m(\u001b[38;5;28mself\u001b[39m):\n\u001b[0;32m--> 303\u001b[0m     \u001b[38;5;28;01mreturn\u001b[39;00m \u001b[38;5;28;43mself\u001b[39;49m\u001b[38;5;241;43m.\u001b[39;49m\u001b[43m_repopulate_pool_static\u001b[49m\u001b[43m(\u001b[49m\u001b[38;5;28;43mself\u001b[39;49m\u001b[38;5;241;43m.\u001b[39;49m\u001b[43m_ctx\u001b[49m\u001b[43m,\u001b[49m\u001b[43m \u001b[49m\u001b[38;5;28;43mself\u001b[39;49m\u001b[38;5;241;43m.\u001b[39;49m\u001b[43mProcess\u001b[49m\u001b[43m,\u001b[49m\n\u001b[1;32m    304\u001b[0m \u001b[43m                                        \u001b[49m\u001b[38;5;28;43mself\u001b[39;49m\u001b[38;5;241;43m.\u001b[39;49m\u001b[43m_processes\u001b[49m\u001b[43m,\u001b[49m\n\u001b[1;32m    305\u001b[0m \u001b[43m                                        \u001b[49m\u001b[38;5;28;43mself\u001b[39;49m\u001b[38;5;241;43m.\u001b[39;49m\u001b[43m_pool\u001b[49m\u001b[43m,\u001b[49m\u001b[43m \u001b[49m\u001b[38;5;28;43mself\u001b[39;49m\u001b[38;5;241;43m.\u001b[39;49m\u001b[43m_inqueue\u001b[49m\u001b[43m,\u001b[49m\n\u001b[1;32m    306\u001b[0m \u001b[43m                                        \u001b[49m\u001b[38;5;28;43mself\u001b[39;49m\u001b[38;5;241;43m.\u001b[39;49m\u001b[43m_outqueue\u001b[49m\u001b[43m,\u001b[49m\u001b[43m \u001b[49m\u001b[38;5;28;43mself\u001b[39;49m\u001b[38;5;241;43m.\u001b[39;49m\u001b[43m_initializer\u001b[49m\u001b[43m,\u001b[49m\n\u001b[1;32m    307\u001b[0m \u001b[43m                                        \u001b[49m\u001b[38;5;28;43mself\u001b[39;49m\u001b[38;5;241;43m.\u001b[39;49m\u001b[43m_initargs\u001b[49m\u001b[43m,\u001b[49m\n\u001b[1;32m    308\u001b[0m \u001b[43m                                        \u001b[49m\u001b[38;5;28;43mself\u001b[39;49m\u001b[38;5;241;43m.\u001b[39;49m\u001b[43m_maxtasksperchild\u001b[49m\u001b[43m,\u001b[49m\n\u001b[1;32m    309\u001b[0m \u001b[43m                                        \u001b[49m\u001b[38;5;28;43mself\u001b[39;49m\u001b[38;5;241;43m.\u001b[39;49m\u001b[43m_wrap_exception\u001b[49m\u001b[43m)\u001b[49m\n",
      "File \u001b[0;32m/cats/datastore3/anaconda3_envs/adia/lib/python3.8/multiprocessing/pool.py:326\u001b[0m, in \u001b[0;36mPool._repopulate_pool_static\u001b[0;34m(ctx, Process, processes, pool, inqueue, outqueue, initializer, initargs, maxtasksperchild, wrap_exception)\u001b[0m\n\u001b[1;32m    324\u001b[0m w\u001b[38;5;241m.\u001b[39mname \u001b[38;5;241m=\u001b[39m w\u001b[38;5;241m.\u001b[39mname\u001b[38;5;241m.\u001b[39mreplace(\u001b[38;5;124m'\u001b[39m\u001b[38;5;124mProcess\u001b[39m\u001b[38;5;124m'\u001b[39m, \u001b[38;5;124m'\u001b[39m\u001b[38;5;124mPoolWorker\u001b[39m\u001b[38;5;124m'\u001b[39m)\n\u001b[1;32m    325\u001b[0m w\u001b[38;5;241m.\u001b[39mdaemon \u001b[38;5;241m=\u001b[39m \u001b[38;5;28;01mTrue\u001b[39;00m\n\u001b[0;32m--> 326\u001b[0m \u001b[43mw\u001b[49m\u001b[38;5;241;43m.\u001b[39;49m\u001b[43mstart\u001b[49m\u001b[43m(\u001b[49m\u001b[43m)\u001b[49m\n\u001b[1;32m    327\u001b[0m pool\u001b[38;5;241m.\u001b[39mappend(w)\n\u001b[1;32m    328\u001b[0m util\u001b[38;5;241m.\u001b[39mdebug(\u001b[38;5;124m'\u001b[39m\u001b[38;5;124madded worker\u001b[39m\u001b[38;5;124m'\u001b[39m)\n",
      "File \u001b[0;32m/cats/datastore3/anaconda3_envs/adia/lib/python3.8/multiprocessing/process.py:121\u001b[0m, in \u001b[0;36mBaseProcess.start\u001b[0;34m(self)\u001b[0m\n\u001b[1;32m    118\u001b[0m \u001b[38;5;28;01massert\u001b[39;00m \u001b[38;5;129;01mnot\u001b[39;00m _current_process\u001b[38;5;241m.\u001b[39m_config\u001b[38;5;241m.\u001b[39mget(\u001b[38;5;124m'\u001b[39m\u001b[38;5;124mdaemon\u001b[39m\u001b[38;5;124m'\u001b[39m), \\\n\u001b[1;32m    119\u001b[0m        \u001b[38;5;124m'\u001b[39m\u001b[38;5;124mdaemonic processes are not allowed to have children\u001b[39m\u001b[38;5;124m'\u001b[39m\n\u001b[1;32m    120\u001b[0m _cleanup()\n\u001b[0;32m--> 121\u001b[0m \u001b[38;5;28mself\u001b[39m\u001b[38;5;241m.\u001b[39m_popen \u001b[38;5;241m=\u001b[39m \u001b[38;5;28;43mself\u001b[39;49m\u001b[38;5;241;43m.\u001b[39;49m\u001b[43m_Popen\u001b[49m\u001b[43m(\u001b[49m\u001b[38;5;28;43mself\u001b[39;49m\u001b[43m)\u001b[49m\n\u001b[1;32m    122\u001b[0m \u001b[38;5;28mself\u001b[39m\u001b[38;5;241m.\u001b[39m_sentinel \u001b[38;5;241m=\u001b[39m \u001b[38;5;28mself\u001b[39m\u001b[38;5;241m.\u001b[39m_popen\u001b[38;5;241m.\u001b[39msentinel\n\u001b[1;32m    123\u001b[0m \u001b[38;5;66;03m# Avoid a refcycle if the target function holds an indirect\u001b[39;00m\n\u001b[1;32m    124\u001b[0m \u001b[38;5;66;03m# reference to the process object (see bpo-30775)\u001b[39;00m\n",
      "File \u001b[0;32m/cats/datastore3/anaconda3_envs/adia/lib/python3.8/multiprocessing/context.py:276\u001b[0m, in \u001b[0;36mForkProcess._Popen\u001b[0;34m(process_obj)\u001b[0m\n\u001b[1;32m    273\u001b[0m \u001b[38;5;129m@staticmethod\u001b[39m\n\u001b[1;32m    274\u001b[0m \u001b[38;5;28;01mdef\u001b[39;00m \u001b[38;5;21m_Popen\u001b[39m(process_obj):\n\u001b[1;32m    275\u001b[0m     \u001b[38;5;28;01mfrom\u001b[39;00m \u001b[38;5;21;01m.\u001b[39;00m\u001b[38;5;21;01mpopen_fork\u001b[39;00m \u001b[38;5;28;01mimport\u001b[39;00m Popen\n\u001b[0;32m--> 276\u001b[0m     \u001b[38;5;28;01mreturn\u001b[39;00m \u001b[43mPopen\u001b[49m\u001b[43m(\u001b[49m\u001b[43mprocess_obj\u001b[49m\u001b[43m)\u001b[49m\n",
      "File \u001b[0;32m/cats/datastore3/anaconda3_envs/adia/lib/python3.8/multiprocessing/popen_fork.py:19\u001b[0m, in \u001b[0;36mPopen.__init__\u001b[0;34m(self, process_obj)\u001b[0m\n\u001b[1;32m     17\u001b[0m \u001b[38;5;28mself\u001b[39m\u001b[38;5;241m.\u001b[39mreturncode \u001b[38;5;241m=\u001b[39m \u001b[38;5;28;01mNone\u001b[39;00m\n\u001b[1;32m     18\u001b[0m \u001b[38;5;28mself\u001b[39m\u001b[38;5;241m.\u001b[39mfinalizer \u001b[38;5;241m=\u001b[39m \u001b[38;5;28;01mNone\u001b[39;00m\n\u001b[0;32m---> 19\u001b[0m \u001b[38;5;28;43mself\u001b[39;49m\u001b[38;5;241;43m.\u001b[39;49m\u001b[43m_launch\u001b[49m\u001b[43m(\u001b[49m\u001b[43mprocess_obj\u001b[49m\u001b[43m)\u001b[49m\n",
      "File \u001b[0;32m/cats/datastore3/anaconda3_envs/adia/lib/python3.8/multiprocessing/popen_fork.py:70\u001b[0m, in \u001b[0;36mPopen._launch\u001b[0;34m(self, process_obj)\u001b[0m\n\u001b[1;32m     68\u001b[0m parent_r, child_w \u001b[38;5;241m=\u001b[39m os\u001b[38;5;241m.\u001b[39mpipe()\n\u001b[1;32m     69\u001b[0m child_r, parent_w \u001b[38;5;241m=\u001b[39m os\u001b[38;5;241m.\u001b[39mpipe()\n\u001b[0;32m---> 70\u001b[0m \u001b[38;5;28mself\u001b[39m\u001b[38;5;241m.\u001b[39mpid \u001b[38;5;241m=\u001b[39m \u001b[43mos\u001b[49m\u001b[38;5;241;43m.\u001b[39;49m\u001b[43mfork\u001b[49m\u001b[43m(\u001b[49m\u001b[43m)\u001b[49m\n\u001b[1;32m     71\u001b[0m \u001b[38;5;28;01mif\u001b[39;00m \u001b[38;5;28mself\u001b[39m\u001b[38;5;241m.\u001b[39mpid \u001b[38;5;241m==\u001b[39m \u001b[38;5;241m0\u001b[39m:\n\u001b[1;32m     72\u001b[0m     \u001b[38;5;28;01mtry\u001b[39;00m:\n",
      "\u001b[0;31mOSError\u001b[0m: [Errno 12] Cannot allocate memory"
     ]
    }
   ],
   "source": [
    "# from multiprocessing import Pool\n",
    "# import numpy as np\n",
    "# import itertools\n",
    "# if __name__ == \"__main__\":\n",
    "#     i = range(5)\n",
    "#     j = range(4)\n",
    "#     paramlist = list(itertools.product(i,j))\n",
    "#     out = np.zeros([5,4])\n",
    "#     with Pool() as pool:\n",
    "#     #Distribute the parameter sets evenly across the cores\n",
    "#         res = pool.starmap(func,paramlist)\n",
    "#         res = np.array(res)\n",
    "#         res = np.reshape(res,[3])\n",
    "#         out[res[1]][res[2]] = res[0]\n",
    "    "
   ]
  },
  {
   "cell_type": "code",
   "execution_count": 29,
   "id": "aeac8205-b3f5-421e-bf0e-f96b0abc575b",
   "metadata": {},
   "outputs": [],
   "source": [
    "from multiprocessing import Pool\n",
    "import numpy as np\n",
    "import itertools\n",
    "#import pdb\n",
    "\n",
    "\n",
    "def func(a, b):\n",
    "    add = a + b\n",
    "    return [add, a, b]\n",
    "\n",
    "\n",
    "if __name__ == \"__main__\":\n",
    "    i = range(5)\n",
    "    j = range(4)\n",
    "    paramlist = list(itertools.product(i, j))\n",
    "    out = np.zeros([5, 4])\n",
    "    with Pool() as pool:\n",
    "        # Distribute the parameter sets evenly across the cores\n",
    "        res = pool.starmap(func, paramlist)\n",
    "        res = np.array(res)\n",
    "        # res = np.reshape(res, [len(paramlist), 3])\n",
    "        for i in range(len(paramlist)):\n",
    "            out[res[i][1]][res[i][2]] = res[i][0]\n",
    "        #pdb.set_trace()"
   ]
  },
  {
   "cell_type": "code",
   "execution_count": 28,
   "id": "6938e6f6-3d67-4664-8c71-9ba687ff6805",
   "metadata": {},
   "outputs": [
    {
     "data": {
      "text/plain": [
       "array([[0., 1., 2., 3.],\n",
       "       [1., 2., 3., 4.],\n",
       "       [2., 3., 4., 5.],\n",
       "       [3., 4., 5., 6.],\n",
       "       [4., 5., 6., 7.]])"
      ]
     },
     "execution_count": 28,
     "metadata": {},
     "output_type": "execute_result"
    }
   ],
   "source": [
    "out"
   ]
  },
  {
   "cell_type": "code",
   "execution_count": 36,
   "id": "c886b5e5-983c-4b82-a0b8-60736dc34ce1",
   "metadata": {},
   "outputs": [
    {
     "name": "stdout",
     "output_type": "stream",
     "text": [
      "trend12.csv\n"
     ]
    }
   ],
   "source": [
    "idx = [1,2]\n",
    "\n",
    "filename = \"trend%s%s.csv\"%(str(idx[0]),str(idx[1]))\n",
    "\n",
    "\n",
    "print(filename)"
   ]
  },
  {
   "cell_type": "code",
   "execution_count": 2,
   "id": "d7c50cfd-6b7f-4163-a035-c4369943b0b8",
   "metadata": {},
   "outputs": [],
   "source": [
    "import datetime\n",
    "from mantle_utils.workflow.enqueue import get_raster_stack_paths_and_metadata\n",
    "from mantle_utils.workflow.process import sanitize_raster_stack_paths_and_metadata\n",
    "from mantle_utils.workflow.metadatadb.product import ProductCollection\n",
    "from mantle_utils.workflow.metadatadb.product import create_s2_tile_idx_search_dict\n",
    "from mantle_utils.workflow.metadatadb.product import create_datetime_search_dict\n",
    "\n",
    "stacking_source_run_name = 'nirlipta_30UXB_stack'\n",
    "tile_idx = '30UXB'\n",
    "\n",
    "stack_raster_paths, stack_metadata = \\\n",
    "    get_raster_stack_paths_and_metadata(\n",
    "        env_name='production',\n",
    "        stacking_source_run_name=stacking_source_run_name,\n",
    "        tile_idx=tile_idx,\n",
    "        raise_on_inconsistent_stack=False)\n",
    "   \n",
    "stack_df = sanitize_raster_stack_paths_and_metadata(\n",
    "    raster_paths=stack_raster_paths,\n",
    "    stack_metadata=stack_metadata,\n",
    "    sanitize_paths=False)\n",
    "\n",
    "product_collection = ProductCollection()\n",
    "\n",
    "product_tile_search_dict = \\\n",
    "    create_s2_tile_idx_search_dict(tile_idx=tile_idx)\n",
    "\n",
    "s1_stack_df = stack_df[stack_df['source_workflow_name'] == 's1-generate_composites']\n",
    "\n",
    "for start_datetime_np in sorted(list(set(\n",
    "        s1_stack_df['start_datetime'].values))):\n",
    "\n",
    "    # cf. https://stackoverflow.com/questions/13703720/converting-between-datetime-timestamp-and-datetime64  # NOQA:501\n",
    "    start_datetime = datetime.datetime.utcfromtimestamp(\n",
    "        start_datetime_np.astype(int) * 1e-9)\n",
    "\n",
    "    product_datetime_search_dict = \\\n",
    "        create_datetime_search_dict(\n",
    "            datetime=start_datetime)\n",
    "    \n",
    "    search_dict = {\n",
    "        'product_metadata.year': start_datetime.year,\n",
    "        'product_metadata.month': start_datetime.month,\n",
    "        'product_metadata.day': start_datetime.day,\n",
    "        **product_tile_search_dict}\n",
    "\n",
    "    products = product_collection.find_in_db(\n",
    "        env_name='production',\n",
    "        projection_dict={\n",
    "            '_id': 0,\n",
    "            'product_metadata.pass': 1},\n",
    "        workflow_name='s1-generate_s2tiles',\n",
    "        run_name='v1.0-v1.0',\n",
    "        search_dict=search_dict)\n",
    "    \n",
    "    if len(products) == 0:  # no entry was found\n",
    "        continue\n",
    "\n",
    "    #print(products[0]['product_metadata']['pass'])"
   ]
  },
  {
   "cell_type": "code",
   "execution_count": 3,
   "id": "7afbcbed-e266-4f7f-93bf-572d6323a101",
   "metadata": {},
   "outputs": [
    {
     "data": {
      "text/plain": [
       "[{'product_metadata': {'pass': 'ASCENDING'}}]"
      ]
     },
     "execution_count": 3,
     "metadata": {},
     "output_type": "execute_result"
    }
   ],
   "source": [
    "products"
   ]
  },
  {
   "cell_type": "code",
   "execution_count": 4,
   "id": "fd3b705d-0c7a-4dc9-b3eb-4aba41d1e5a8",
   "metadata": {},
   "outputs": [
    {
     "data": {
      "text/plain": [
       "list"
      ]
     },
     "execution_count": 4,
     "metadata": {},
     "output_type": "execute_result"
    }
   ],
   "source": [
    "type(products)"
   ]
  },
  {
   "cell_type": "code",
   "execution_count": 5,
   "id": "06fb248e-9015-4a78-bd51-0bb5854a7571",
   "metadata": {},
   "outputs": [
    {
     "data": {
      "text/plain": [
       "1"
      ]
     },
     "execution_count": 5,
     "metadata": {},
     "output_type": "execute_result"
    }
   ],
   "source": [
    "len(products)"
   ]
  },
  {
   "cell_type": "code",
   "execution_count": 6,
   "id": "84dac654-d1c8-4ebb-8aae-1751fb61f708",
   "metadata": {},
   "outputs": [],
   "source": [
    "c = 0b0"
   ]
  },
  {
   "cell_type": "code",
   "execution_count": 7,
   "id": "99252e17-b8b8-42c8-8f59-4730a7269778",
   "metadata": {},
   "outputs": [
    {
     "name": "stdout",
     "output_type": "stream",
     "text": [
      "1\n"
     ]
    }
   ],
   "source": [
    "a= 1\n",
    "b= 2\n",
    "if(c&0b1 == 0):\n",
    "    ip = a\n",
    "if(c&0b1 == 1):\n",
    "    ip = b\n",
    "print(ip)"
   ]
  },
  {
   "cell_type": "code",
   "execution_count": null,
   "id": "d8d75cb8-9e8a-4104-acee-df540b0107c9",
   "metadata": {},
   "outputs": [],
   "source": []
  }
 ],
 "metadata": {
  "kernelspec": {
   "display_name": "Python 3 (ipykernel)",
   "language": "python",
   "name": "python3"
  },
  "language_info": {
   "codemirror_mode": {
    "name": "ipython",
    "version": 3
   },
   "file_extension": ".py",
   "mimetype": "text/x-python",
   "name": "python",
   "nbconvert_exporter": "python",
   "pygments_lexer": "ipython3",
   "version": "3.8.3"
  }
 },
 "nbformat": 4,
 "nbformat_minor": 5
}
